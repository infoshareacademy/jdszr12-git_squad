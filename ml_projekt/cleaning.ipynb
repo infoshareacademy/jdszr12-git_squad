{
 "cells": [
  {
   "cell_type": "code",
   "execution_count": 50,
   "metadata": {},
   "outputs": [],
   "source": [
    "import pandas as pd\n",
    "import numpy as np\n",
    "import matplotlib.pyplot as plt\n",
    "import seaborn as sns"
   ]
  },
  {
   "cell_type": "code",
   "execution_count": null,
   "metadata": {},
   "outputs": [],
   "source": [
    "!wget https://archive.ics.uci.edu/ml/machine-learning-databases/00235/household_power_consumption.zip\n",
    "!unzip household_power_consumption.zip"
   ]
  },
  {
   "cell_type": "code",
   "execution_count": 51,
   "metadata": {},
   "outputs": [],
   "source": [
    "pd.set_option(\"display.float_format\", \"{:.2f}\".format)"
   ]
  },
  {
   "cell_type": "code",
   "execution_count": 52,
   "metadata": {},
   "outputs": [
    {
     "name": "stderr",
     "output_type": "stream",
     "text": [
      "C:\\Users\\jaros\\AppData\\Local\\Temp\\ipykernel_9484\\293355836.py:4: DtypeWarning: Columns (2,3,4,5,6,7) have mixed types. Specify dtype option on import or set low_memory=False.\n",
      "  df = pd.read_csv('household_power_consumption.txt', sep=';')\n"
     ]
    }
   ],
   "source": [
    "# The ds (datestamp) column should be of a format expected by Pandas,\n",
    "# ideally YYYY-MM-DD for a date or YYYY-MM-DD HH:MM:SS for a timestamp.\n",
    "\n",
    "df = pd.read_csv('household_power_consumption.txt', sep=';')"
   ]
  },
  {
   "cell_type": "code",
   "execution_count": 53,
   "metadata": {},
   "outputs": [
    {
     "name": "stderr",
     "output_type": "stream",
     "text": [
      "C:\\Users\\jaros\\AppData\\Local\\Temp\\ipykernel_9484\\1650630806.py:1: UserWarning: Parsing dates in %d/%m/%Y %H:%M:%S format when dayfirst=False (the default) was specified. Pass `dayfirst=True` or specify a format to silence this warning.\n",
      "  df['DateTime'] = pd.to_datetime(df['Date'] + ' ' + df['Time'])\n"
     ]
    }
   ],
   "source": [
    "df['DateTime'] = pd.to_datetime(df['Date'] + ' ' + df['Time'])\n",
    "\n",
    "del df['Date']\n",
    "del df['Time']\n",
    "\n",
    "df.set_index(\"DateTime\", inplace=True)"
   ]
  },
  {
   "cell_type": "code",
   "execution_count": 54,
   "metadata": {},
   "outputs": [
    {
     "data": {
      "text/plain": [
       "Global_active_power          0\n",
       "Global_reactive_power        0\n",
       "Voltage                      0\n",
       "Global_intensity             0\n",
       "Sub_metering_1               0\n",
       "Sub_metering_2               0\n",
       "Sub_metering_3           25979\n",
       "dtype: int64"
      ]
     },
     "execution_count": 54,
     "metadata": {},
     "output_type": "execute_result"
    }
   ],
   "source": [
    "df.isna().sum()"
   ]
  },
  {
   "cell_type": "code",
   "execution_count": 55,
   "metadata": {},
   "outputs": [
    {
     "data": {
      "text/html": [
       "<div>\n",
       "<style scoped>\n",
       "    .dataframe tbody tr th:only-of-type {\n",
       "        vertical-align: middle;\n",
       "    }\n",
       "\n",
       "    .dataframe tbody tr th {\n",
       "        vertical-align: top;\n",
       "    }\n",
       "\n",
       "    .dataframe thead th {\n",
       "        text-align: right;\n",
       "    }\n",
       "</style>\n",
       "<table border=\"1\" class=\"dataframe\">\n",
       "  <thead>\n",
       "    <tr style=\"text-align: right;\">\n",
       "      <th></th>\n",
       "      <th>count</th>\n",
       "      <th>unique</th>\n",
       "      <th>top</th>\n",
       "      <th>freq</th>\n",
       "      <th>mean</th>\n",
       "      <th>std</th>\n",
       "      <th>min</th>\n",
       "      <th>25%</th>\n",
       "      <th>50%</th>\n",
       "      <th>75%</th>\n",
       "      <th>max</th>\n",
       "    </tr>\n",
       "  </thead>\n",
       "  <tbody>\n",
       "    <tr>\n",
       "      <th>Global_active_power</th>\n",
       "      <td>2075259</td>\n",
       "      <td>6534</td>\n",
       "      <td>?</td>\n",
       "      <td>25979</td>\n",
       "      <td>NaN</td>\n",
       "      <td>NaN</td>\n",
       "      <td>NaN</td>\n",
       "      <td>NaN</td>\n",
       "      <td>NaN</td>\n",
       "      <td>NaN</td>\n",
       "      <td>NaN</td>\n",
       "    </tr>\n",
       "    <tr>\n",
       "      <th>Global_reactive_power</th>\n",
       "      <td>2075259</td>\n",
       "      <td>896</td>\n",
       "      <td>0.000</td>\n",
       "      <td>472786</td>\n",
       "      <td>NaN</td>\n",
       "      <td>NaN</td>\n",
       "      <td>NaN</td>\n",
       "      <td>NaN</td>\n",
       "      <td>NaN</td>\n",
       "      <td>NaN</td>\n",
       "      <td>NaN</td>\n",
       "    </tr>\n",
       "    <tr>\n",
       "      <th>Voltage</th>\n",
       "      <td>2075259</td>\n",
       "      <td>5168</td>\n",
       "      <td>?</td>\n",
       "      <td>25979</td>\n",
       "      <td>NaN</td>\n",
       "      <td>NaN</td>\n",
       "      <td>NaN</td>\n",
       "      <td>NaN</td>\n",
       "      <td>NaN</td>\n",
       "      <td>NaN</td>\n",
       "      <td>NaN</td>\n",
       "    </tr>\n",
       "    <tr>\n",
       "      <th>Global_intensity</th>\n",
       "      <td>2075259</td>\n",
       "      <td>377</td>\n",
       "      <td>1.000</td>\n",
       "      <td>169406</td>\n",
       "      <td>NaN</td>\n",
       "      <td>NaN</td>\n",
       "      <td>NaN</td>\n",
       "      <td>NaN</td>\n",
       "      <td>NaN</td>\n",
       "      <td>NaN</td>\n",
       "      <td>NaN</td>\n",
       "    </tr>\n",
       "    <tr>\n",
       "      <th>Sub_metering_1</th>\n",
       "      <td>2075259</td>\n",
       "      <td>153</td>\n",
       "      <td>0.000</td>\n",
       "      <td>1840611</td>\n",
       "      <td>NaN</td>\n",
       "      <td>NaN</td>\n",
       "      <td>NaN</td>\n",
       "      <td>NaN</td>\n",
       "      <td>NaN</td>\n",
       "      <td>NaN</td>\n",
       "      <td>NaN</td>\n",
       "    </tr>\n",
       "    <tr>\n",
       "      <th>Sub_metering_2</th>\n",
       "      <td>2075259</td>\n",
       "      <td>145</td>\n",
       "      <td>0.000</td>\n",
       "      <td>1408274</td>\n",
       "      <td>NaN</td>\n",
       "      <td>NaN</td>\n",
       "      <td>NaN</td>\n",
       "      <td>NaN</td>\n",
       "      <td>NaN</td>\n",
       "      <td>NaN</td>\n",
       "      <td>NaN</td>\n",
       "    </tr>\n",
       "    <tr>\n",
       "      <th>Sub_metering_3</th>\n",
       "      <td>2049280.00</td>\n",
       "      <td>NaN</td>\n",
       "      <td>NaN</td>\n",
       "      <td>NaN</td>\n",
       "      <td>6.46</td>\n",
       "      <td>8.44</td>\n",
       "      <td>0.00</td>\n",
       "      <td>0.00</td>\n",
       "      <td>1.00</td>\n",
       "      <td>17.00</td>\n",
       "      <td>31.00</td>\n",
       "    </tr>\n",
       "  </tbody>\n",
       "</table>\n",
       "</div>"
      ],
      "text/plain": [
       "                           count unique    top     freq mean  std  min  25%   \n",
       "Global_active_power      2075259   6534      ?    25979  NaN  NaN  NaN  NaN  \\\n",
       "Global_reactive_power    2075259    896  0.000   472786  NaN  NaN  NaN  NaN   \n",
       "Voltage                  2075259   5168      ?    25979  NaN  NaN  NaN  NaN   \n",
       "Global_intensity         2075259    377  1.000   169406  NaN  NaN  NaN  NaN   \n",
       "Sub_metering_1           2075259    153  0.000  1840611  NaN  NaN  NaN  NaN   \n",
       "Sub_metering_2           2075259    145  0.000  1408274  NaN  NaN  NaN  NaN   \n",
       "Sub_metering_3        2049280.00    NaN    NaN      NaN 6.46 8.44 0.00 0.00   \n",
       "\n",
       "                       50%   75%   max  \n",
       "Global_active_power    NaN   NaN   NaN  \n",
       "Global_reactive_power  NaN   NaN   NaN  \n",
       "Voltage                NaN   NaN   NaN  \n",
       "Global_intensity       NaN   NaN   NaN  \n",
       "Sub_metering_1         NaN   NaN   NaN  \n",
       "Sub_metering_2         NaN   NaN   NaN  \n",
       "Sub_metering_3        1.00 17.00 31.00  "
      ]
     },
     "execution_count": 55,
     "metadata": {},
     "output_type": "execute_result"
    }
   ],
   "source": [
    "df.describe(include='all').T"
   ]
  },
  {
   "cell_type": "code",
   "execution_count": 56,
   "metadata": {},
   "outputs": [
    {
     "data": {
      "text/plain": [
       "Global_active_power      25979\n",
       "Global_reactive_power    25979\n",
       "Voltage                  25979\n",
       "Global_intensity         25979\n",
       "Sub_metering_1           25979\n",
       "Sub_metering_2           25979\n",
       "Sub_metering_3               0\n",
       "dtype: int64"
      ]
     },
     "execution_count": 56,
     "metadata": {},
     "output_type": "execute_result"
    }
   ],
   "source": [
    "df.isin(['?']).sum()"
   ]
  },
  {
   "cell_type": "code",
   "execution_count": 57,
   "metadata": {},
   "outputs": [],
   "source": [
    "df.replace('?', 'NaN', inplace=True)"
   ]
  },
  {
   "cell_type": "code",
   "execution_count": 58,
   "metadata": {},
   "outputs": [],
   "source": [
    "df['Global_active_power'] = df['Global_active_power'].astype('float')\n",
    "df['Global_reactive_power'] = df['Global_reactive_power'].astype('float')\n",
    "df['Voltage'] = df['Voltage'].astype('float')\n",
    "df['Global_intensity'] = df['Global_intensity'].astype('float')\n",
    "df['Sub_metering_1'] = df['Sub_metering_1'].astype('float')\n",
    "df['Sub_metering_2'] = df['Sub_metering_2'].astype('float')"
   ]
  },
  {
   "cell_type": "code",
   "execution_count": 59,
   "metadata": {},
   "outputs": [
    {
     "name": "stdout",
     "output_type": "stream",
     "text": [
      "<class 'pandas.core.frame.DataFrame'>\n",
      "DatetimeIndex: 2075259 entries, 2006-12-16 17:24:00 to 2010-11-26 21:02:00\n",
      "Data columns (total 7 columns):\n",
      " #   Column                 Dtype  \n",
      "---  ------                 -----  \n",
      " 0   Global_active_power    float64\n",
      " 1   Global_reactive_power  float64\n",
      " 2   Voltage                float64\n",
      " 3   Global_intensity       float64\n",
      " 4   Sub_metering_1         float64\n",
      " 5   Sub_metering_2         float64\n",
      " 6   Sub_metering_3         float64\n",
      "dtypes: float64(7)\n",
      "memory usage: 126.7 MB\n"
     ]
    }
   ],
   "source": [
    "df.info()"
   ]
  },
  {
   "cell_type": "code",
   "execution_count": 60,
   "metadata": {},
   "outputs": [
    {
     "data": {
      "text/html": [
       "<div>\n",
       "<style scoped>\n",
       "    .dataframe tbody tr th:only-of-type {\n",
       "        vertical-align: middle;\n",
       "    }\n",
       "\n",
       "    .dataframe tbody tr th {\n",
       "        vertical-align: top;\n",
       "    }\n",
       "\n",
       "    .dataframe thead th {\n",
       "        text-align: right;\n",
       "    }\n",
       "</style>\n",
       "<table border=\"1\" class=\"dataframe\">\n",
       "  <thead>\n",
       "    <tr style=\"text-align: right;\">\n",
       "      <th></th>\n",
       "      <th>count</th>\n",
       "      <th>mean</th>\n",
       "      <th>std</th>\n",
       "      <th>min</th>\n",
       "      <th>25%</th>\n",
       "      <th>50%</th>\n",
       "      <th>75%</th>\n",
       "      <th>max</th>\n",
       "    </tr>\n",
       "  </thead>\n",
       "  <tbody>\n",
       "    <tr>\n",
       "      <th>Global_active_power</th>\n",
       "      <td>2049280.00</td>\n",
       "      <td>1.09</td>\n",
       "      <td>1.06</td>\n",
       "      <td>0.08</td>\n",
       "      <td>0.31</td>\n",
       "      <td>0.60</td>\n",
       "      <td>1.53</td>\n",
       "      <td>11.12</td>\n",
       "    </tr>\n",
       "    <tr>\n",
       "      <th>Global_reactive_power</th>\n",
       "      <td>2049280.00</td>\n",
       "      <td>0.12</td>\n",
       "      <td>0.11</td>\n",
       "      <td>0.00</td>\n",
       "      <td>0.05</td>\n",
       "      <td>0.10</td>\n",
       "      <td>0.19</td>\n",
       "      <td>1.39</td>\n",
       "    </tr>\n",
       "    <tr>\n",
       "      <th>Voltage</th>\n",
       "      <td>2049280.00</td>\n",
       "      <td>240.84</td>\n",
       "      <td>3.24</td>\n",
       "      <td>223.20</td>\n",
       "      <td>238.99</td>\n",
       "      <td>241.01</td>\n",
       "      <td>242.89</td>\n",
       "      <td>254.15</td>\n",
       "    </tr>\n",
       "    <tr>\n",
       "      <th>Global_intensity</th>\n",
       "      <td>2049280.00</td>\n",
       "      <td>4.63</td>\n",
       "      <td>4.44</td>\n",
       "      <td>0.20</td>\n",
       "      <td>1.40</td>\n",
       "      <td>2.60</td>\n",
       "      <td>6.40</td>\n",
       "      <td>48.40</td>\n",
       "    </tr>\n",
       "    <tr>\n",
       "      <th>Sub_metering_1</th>\n",
       "      <td>2049280.00</td>\n",
       "      <td>1.12</td>\n",
       "      <td>6.15</td>\n",
       "      <td>0.00</td>\n",
       "      <td>0.00</td>\n",
       "      <td>0.00</td>\n",
       "      <td>0.00</td>\n",
       "      <td>88.00</td>\n",
       "    </tr>\n",
       "    <tr>\n",
       "      <th>Sub_metering_2</th>\n",
       "      <td>2049280.00</td>\n",
       "      <td>1.30</td>\n",
       "      <td>5.82</td>\n",
       "      <td>0.00</td>\n",
       "      <td>0.00</td>\n",
       "      <td>0.00</td>\n",
       "      <td>1.00</td>\n",
       "      <td>80.00</td>\n",
       "    </tr>\n",
       "    <tr>\n",
       "      <th>Sub_metering_3</th>\n",
       "      <td>2049280.00</td>\n",
       "      <td>6.46</td>\n",
       "      <td>8.44</td>\n",
       "      <td>0.00</td>\n",
       "      <td>0.00</td>\n",
       "      <td>1.00</td>\n",
       "      <td>17.00</td>\n",
       "      <td>31.00</td>\n",
       "    </tr>\n",
       "  </tbody>\n",
       "</table>\n",
       "</div>"
      ],
      "text/plain": [
       "                           count   mean  std    min    25%    50%    75%   \n",
       "Global_active_power   2049280.00   1.09 1.06   0.08   0.31   0.60   1.53  \\\n",
       "Global_reactive_power 2049280.00   0.12 0.11   0.00   0.05   0.10   0.19   \n",
       "Voltage               2049280.00 240.84 3.24 223.20 238.99 241.01 242.89   \n",
       "Global_intensity      2049280.00   4.63 4.44   0.20   1.40   2.60   6.40   \n",
       "Sub_metering_1        2049280.00   1.12 6.15   0.00   0.00   0.00   0.00   \n",
       "Sub_metering_2        2049280.00   1.30 5.82   0.00   0.00   0.00   1.00   \n",
       "Sub_metering_3        2049280.00   6.46 8.44   0.00   0.00   1.00  17.00   \n",
       "\n",
       "                         max  \n",
       "Global_active_power    11.12  \n",
       "Global_reactive_power   1.39  \n",
       "Voltage               254.15  \n",
       "Global_intensity       48.40  \n",
       "Sub_metering_1         88.00  \n",
       "Sub_metering_2         80.00  \n",
       "Sub_metering_3         31.00  "
      ]
     },
     "execution_count": 60,
     "metadata": {},
     "output_type": "execute_result"
    }
   ],
   "source": [
    "df.describe(include='all').T"
   ]
  },
  {
   "cell_type": "code",
   "execution_count": 61,
   "metadata": {},
   "outputs": [],
   "source": [
    "# Fill missing values with a value at the same time, one day ago"
   ]
  },
  {
   "cell_type": "code",
   "execution_count": 62,
   "metadata": {},
   "outputs": [
    {
     "data": {
      "text/plain": [
       "Global_active_power      25979\n",
       "Global_reactive_power    25979\n",
       "Voltage                  25979\n",
       "Global_intensity         25979\n",
       "Sub_metering_1           25979\n",
       "Sub_metering_2           25979\n",
       "Sub_metering_3           25979\n",
       "dtype: int64"
      ]
     },
     "execution_count": 62,
     "metadata": {},
     "output_type": "execute_result"
    }
   ],
   "source": [
    "df.isna().sum()"
   ]
  },
  {
   "cell_type": "code",
   "execution_count": 63,
   "metadata": {},
   "outputs": [],
   "source": [
    "df = df.fillna(df.shift(60*24*7))"
   ]
  },
  {
   "cell_type": "code",
   "execution_count": 64,
   "metadata": {},
   "outputs": [
    {
     "data": {
      "text/plain": [
       "Global_active_power      3\n",
       "Global_reactive_power    3\n",
       "Voltage                  3\n",
       "Global_intensity         3\n",
       "Sub_metering_1           3\n",
       "Sub_metering_2           3\n",
       "Sub_metering_3           3\n",
       "dtype: int64"
      ]
     },
     "execution_count": 64,
     "metadata": {},
     "output_type": "execute_result"
    }
   ],
   "source": [
    "df.isna().sum()"
   ]
  },
  {
   "cell_type": "code",
   "execution_count": 65,
   "metadata": {},
   "outputs": [],
   "source": [
    "df = df.fillna(df.shift(60*24*7))"
   ]
  },
  {
   "cell_type": "code",
   "execution_count": 66,
   "metadata": {},
   "outputs": [
    {
     "data": {
      "text/plain": [
       "Global_active_power      2\n",
       "Global_reactive_power    2\n",
       "Voltage                  2\n",
       "Global_intensity         2\n",
       "Sub_metering_1           2\n",
       "Sub_metering_2           2\n",
       "Sub_metering_3           2\n",
       "dtype: int64"
      ]
     },
     "execution_count": 66,
     "metadata": {},
     "output_type": "execute_result"
    }
   ],
   "source": [
    "df.isna().sum()"
   ]
  },
  {
   "cell_type": "code",
   "execution_count": 67,
   "metadata": {},
   "outputs": [],
   "source": [
    "df = df.fillna(df.shift(60*24))"
   ]
  },
  {
   "cell_type": "code",
   "execution_count": 68,
   "metadata": {},
   "outputs": [
    {
     "data": {
      "text/plain": [
       "Global_active_power      0\n",
       "Global_reactive_power    0\n",
       "Voltage                  0\n",
       "Global_intensity         0\n",
       "Sub_metering_1           0\n",
       "Sub_metering_2           0\n",
       "Sub_metering_3           0\n",
       "dtype: int64"
      ]
     },
     "execution_count": 68,
     "metadata": {},
     "output_type": "execute_result"
    }
   ],
   "source": [
    "df.isna().sum()"
   ]
  },
  {
   "cell_type": "code",
   "execution_count": 69,
   "metadata": {},
   "outputs": [
    {
     "data": {
      "text/html": [
       "<div>\n",
       "<style scoped>\n",
       "    .dataframe tbody tr th:only-of-type {\n",
       "        vertical-align: middle;\n",
       "    }\n",
       "\n",
       "    .dataframe tbody tr th {\n",
       "        vertical-align: top;\n",
       "    }\n",
       "\n",
       "    .dataframe thead th {\n",
       "        text-align: right;\n",
       "    }\n",
       "</style>\n",
       "<table border=\"1\" class=\"dataframe\">\n",
       "  <thead>\n",
       "    <tr style=\"text-align: right;\">\n",
       "      <th></th>\n",
       "      <th>count</th>\n",
       "      <th>mean</th>\n",
       "      <th>std</th>\n",
       "      <th>min</th>\n",
       "      <th>25%</th>\n",
       "      <th>50%</th>\n",
       "      <th>75%</th>\n",
       "      <th>max</th>\n",
       "    </tr>\n",
       "  </thead>\n",
       "  <tbody>\n",
       "    <tr>\n",
       "      <th>Global_active_power</th>\n",
       "      <td>2075259.00</td>\n",
       "      <td>1.09</td>\n",
       "      <td>1.06</td>\n",
       "      <td>0.08</td>\n",
       "      <td>0.31</td>\n",
       "      <td>0.60</td>\n",
       "      <td>1.53</td>\n",
       "      <td>11.12</td>\n",
       "    </tr>\n",
       "    <tr>\n",
       "      <th>Global_reactive_power</th>\n",
       "      <td>2075259.00</td>\n",
       "      <td>0.12</td>\n",
       "      <td>0.11</td>\n",
       "      <td>0.00</td>\n",
       "      <td>0.05</td>\n",
       "      <td>0.10</td>\n",
       "      <td>0.19</td>\n",
       "      <td>1.39</td>\n",
       "    </tr>\n",
       "    <tr>\n",
       "      <th>Voltage</th>\n",
       "      <td>2075259.00</td>\n",
       "      <td>240.85</td>\n",
       "      <td>3.23</td>\n",
       "      <td>223.20</td>\n",
       "      <td>239.00</td>\n",
       "      <td>241.02</td>\n",
       "      <td>242.88</td>\n",
       "      <td>254.15</td>\n",
       "    </tr>\n",
       "    <tr>\n",
       "      <th>Global_intensity</th>\n",
       "      <td>2075259.00</td>\n",
       "      <td>4.62</td>\n",
       "      <td>4.44</td>\n",
       "      <td>0.20</td>\n",
       "      <td>1.40</td>\n",
       "      <td>2.60</td>\n",
       "      <td>6.40</td>\n",
       "      <td>48.40</td>\n",
       "    </tr>\n",
       "    <tr>\n",
       "      <th>Sub_metering_1</th>\n",
       "      <td>2075259.00</td>\n",
       "      <td>1.12</td>\n",
       "      <td>6.15</td>\n",
       "      <td>0.00</td>\n",
       "      <td>0.00</td>\n",
       "      <td>0.00</td>\n",
       "      <td>0.00</td>\n",
       "      <td>88.00</td>\n",
       "    </tr>\n",
       "    <tr>\n",
       "      <th>Sub_metering_2</th>\n",
       "      <td>2075259.00</td>\n",
       "      <td>1.30</td>\n",
       "      <td>5.81</td>\n",
       "      <td>0.00</td>\n",
       "      <td>0.00</td>\n",
       "      <td>0.00</td>\n",
       "      <td>1.00</td>\n",
       "      <td>80.00</td>\n",
       "    </tr>\n",
       "    <tr>\n",
       "      <th>Sub_metering_3</th>\n",
       "      <td>2075259.00</td>\n",
       "      <td>6.45</td>\n",
       "      <td>8.43</td>\n",
       "      <td>0.00</td>\n",
       "      <td>0.00</td>\n",
       "      <td>1.00</td>\n",
       "      <td>17.00</td>\n",
       "      <td>31.00</td>\n",
       "    </tr>\n",
       "  </tbody>\n",
       "</table>\n",
       "</div>"
      ],
      "text/plain": [
       "                           count   mean  std    min    25%    50%    75%   \n",
       "Global_active_power   2075259.00   1.09 1.06   0.08   0.31   0.60   1.53  \\\n",
       "Global_reactive_power 2075259.00   0.12 0.11   0.00   0.05   0.10   0.19   \n",
       "Voltage               2075259.00 240.85 3.23 223.20 239.00 241.02 242.88   \n",
       "Global_intensity      2075259.00   4.62 4.44   0.20   1.40   2.60   6.40   \n",
       "Sub_metering_1        2075259.00   1.12 6.15   0.00   0.00   0.00   0.00   \n",
       "Sub_metering_2        2075259.00   1.30 5.81   0.00   0.00   0.00   1.00   \n",
       "Sub_metering_3        2075259.00   6.45 8.43   0.00   0.00   1.00  17.00   \n",
       "\n",
       "                         max  \n",
       "Global_active_power    11.12  \n",
       "Global_reactive_power   1.39  \n",
       "Voltage               254.15  \n",
       "Global_intensity       48.40  \n",
       "Sub_metering_1         88.00  \n",
       "Sub_metering_2         80.00  \n",
       "Sub_metering_3         31.00  "
      ]
     },
     "execution_count": 69,
     "metadata": {},
     "output_type": "execute_result"
    }
   ],
   "source": [
    "df.describe(include='all').T"
   ]
  },
  {
   "cell_type": "code",
   "execution_count": 70,
   "metadata": {},
   "outputs": [
    {
     "data": {
      "text/html": [
       "<div>\n",
       "<style scoped>\n",
       "    .dataframe tbody tr th:only-of-type {\n",
       "        vertical-align: middle;\n",
       "    }\n",
       "\n",
       "    .dataframe tbody tr th {\n",
       "        vertical-align: top;\n",
       "    }\n",
       "\n",
       "    .dataframe thead th {\n",
       "        text-align: right;\n",
       "    }\n",
       "</style>\n",
       "<table border=\"1\" class=\"dataframe\">\n",
       "  <thead>\n",
       "    <tr style=\"text-align: right;\">\n",
       "      <th></th>\n",
       "      <th>Global_active_power</th>\n",
       "      <th>Global_reactive_power</th>\n",
       "      <th>Voltage</th>\n",
       "      <th>Global_intensity</th>\n",
       "      <th>Sub_metering_1</th>\n",
       "      <th>Sub_metering_2</th>\n",
       "      <th>Sub_metering_3</th>\n",
       "    </tr>\n",
       "    <tr>\n",
       "      <th>DateTime</th>\n",
       "      <th></th>\n",
       "      <th></th>\n",
       "      <th></th>\n",
       "      <th></th>\n",
       "      <th></th>\n",
       "      <th></th>\n",
       "      <th></th>\n",
       "    </tr>\n",
       "  </thead>\n",
       "  <tbody>\n",
       "    <tr>\n",
       "      <th>2006-12-16 17:24:00</th>\n",
       "      <td>4.22</td>\n",
       "      <td>0.42</td>\n",
       "      <td>234.84</td>\n",
       "      <td>18.40</td>\n",
       "      <td>0.00</td>\n",
       "      <td>1.00</td>\n",
       "      <td>17.00</td>\n",
       "    </tr>\n",
       "    <tr>\n",
       "      <th>2006-12-16 17:25:00</th>\n",
       "      <td>5.36</td>\n",
       "      <td>0.44</td>\n",
       "      <td>233.63</td>\n",
       "      <td>23.00</td>\n",
       "      <td>0.00</td>\n",
       "      <td>1.00</td>\n",
       "      <td>16.00</td>\n",
       "    </tr>\n",
       "    <tr>\n",
       "      <th>2006-12-16 17:26:00</th>\n",
       "      <td>5.37</td>\n",
       "      <td>0.50</td>\n",
       "      <td>233.29</td>\n",
       "      <td>23.00</td>\n",
       "      <td>0.00</td>\n",
       "      <td>2.00</td>\n",
       "      <td>17.00</td>\n",
       "    </tr>\n",
       "    <tr>\n",
       "      <th>2006-12-16 17:27:00</th>\n",
       "      <td>5.39</td>\n",
       "      <td>0.50</td>\n",
       "      <td>233.74</td>\n",
       "      <td>23.00</td>\n",
       "      <td>0.00</td>\n",
       "      <td>1.00</td>\n",
       "      <td>17.00</td>\n",
       "    </tr>\n",
       "    <tr>\n",
       "      <th>2006-12-16 17:28:00</th>\n",
       "      <td>3.67</td>\n",
       "      <td>0.53</td>\n",
       "      <td>235.68</td>\n",
       "      <td>15.80</td>\n",
       "      <td>0.00</td>\n",
       "      <td>1.00</td>\n",
       "      <td>17.00</td>\n",
       "    </tr>\n",
       "    <tr>\n",
       "      <th>...</th>\n",
       "      <td>...</td>\n",
       "      <td>...</td>\n",
       "      <td>...</td>\n",
       "      <td>...</td>\n",
       "      <td>...</td>\n",
       "      <td>...</td>\n",
       "      <td>...</td>\n",
       "    </tr>\n",
       "    <tr>\n",
       "      <th>2010-11-26 20:58:00</th>\n",
       "      <td>0.95</td>\n",
       "      <td>0.00</td>\n",
       "      <td>240.43</td>\n",
       "      <td>4.00</td>\n",
       "      <td>0.00</td>\n",
       "      <td>0.00</td>\n",
       "      <td>0.00</td>\n",
       "    </tr>\n",
       "    <tr>\n",
       "      <th>2010-11-26 20:59:00</th>\n",
       "      <td>0.94</td>\n",
       "      <td>0.00</td>\n",
       "      <td>240.00</td>\n",
       "      <td>4.00</td>\n",
       "      <td>0.00</td>\n",
       "      <td>0.00</td>\n",
       "      <td>0.00</td>\n",
       "    </tr>\n",
       "    <tr>\n",
       "      <th>2010-11-26 21:00:00</th>\n",
       "      <td>0.94</td>\n",
       "      <td>0.00</td>\n",
       "      <td>239.82</td>\n",
       "      <td>3.80</td>\n",
       "      <td>0.00</td>\n",
       "      <td>0.00</td>\n",
       "      <td>0.00</td>\n",
       "    </tr>\n",
       "    <tr>\n",
       "      <th>2010-11-26 21:01:00</th>\n",
       "      <td>0.93</td>\n",
       "      <td>0.00</td>\n",
       "      <td>239.70</td>\n",
       "      <td>3.80</td>\n",
       "      <td>0.00</td>\n",
       "      <td>0.00</td>\n",
       "      <td>0.00</td>\n",
       "    </tr>\n",
       "    <tr>\n",
       "      <th>2010-11-26 21:02:00</th>\n",
       "      <td>0.93</td>\n",
       "      <td>0.00</td>\n",
       "      <td>239.55</td>\n",
       "      <td>3.80</td>\n",
       "      <td>0.00</td>\n",
       "      <td>0.00</td>\n",
       "      <td>0.00</td>\n",
       "    </tr>\n",
       "  </tbody>\n",
       "</table>\n",
       "<p>2075259 rows × 7 columns</p>\n",
       "</div>"
      ],
      "text/plain": [
       "                     Global_active_power  Global_reactive_power  Voltage   \n",
       "DateTime                                                                   \n",
       "2006-12-16 17:24:00                 4.22                   0.42   234.84  \\\n",
       "2006-12-16 17:25:00                 5.36                   0.44   233.63   \n",
       "2006-12-16 17:26:00                 5.37                   0.50   233.29   \n",
       "2006-12-16 17:27:00                 5.39                   0.50   233.74   \n",
       "2006-12-16 17:28:00                 3.67                   0.53   235.68   \n",
       "...                                  ...                    ...      ...   \n",
       "2010-11-26 20:58:00                 0.95                   0.00   240.43   \n",
       "2010-11-26 20:59:00                 0.94                   0.00   240.00   \n",
       "2010-11-26 21:00:00                 0.94                   0.00   239.82   \n",
       "2010-11-26 21:01:00                 0.93                   0.00   239.70   \n",
       "2010-11-26 21:02:00                 0.93                   0.00   239.55   \n",
       "\n",
       "                     Global_intensity  Sub_metering_1  Sub_metering_2   \n",
       "DateTime                                                                \n",
       "2006-12-16 17:24:00             18.40            0.00            1.00  \\\n",
       "2006-12-16 17:25:00             23.00            0.00            1.00   \n",
       "2006-12-16 17:26:00             23.00            0.00            2.00   \n",
       "2006-12-16 17:27:00             23.00            0.00            1.00   \n",
       "2006-12-16 17:28:00             15.80            0.00            1.00   \n",
       "...                               ...             ...             ...   \n",
       "2010-11-26 20:58:00              4.00            0.00            0.00   \n",
       "2010-11-26 20:59:00              4.00            0.00            0.00   \n",
       "2010-11-26 21:00:00              3.80            0.00            0.00   \n",
       "2010-11-26 21:01:00              3.80            0.00            0.00   \n",
       "2010-11-26 21:02:00              3.80            0.00            0.00   \n",
       "\n",
       "                     Sub_metering_3  \n",
       "DateTime                             \n",
       "2006-12-16 17:24:00           17.00  \n",
       "2006-12-16 17:25:00           16.00  \n",
       "2006-12-16 17:26:00           17.00  \n",
       "2006-12-16 17:27:00           17.00  \n",
       "2006-12-16 17:28:00           17.00  \n",
       "...                             ...  \n",
       "2010-11-26 20:58:00            0.00  \n",
       "2010-11-26 20:59:00            0.00  \n",
       "2010-11-26 21:00:00            0.00  \n",
       "2010-11-26 21:01:00            0.00  \n",
       "2010-11-26 21:02:00            0.00  \n",
       "\n",
       "[2075259 rows x 7 columns]"
      ]
     },
     "execution_count": 70,
     "metadata": {},
     "output_type": "execute_result"
    }
   ],
   "source": [
    "df"
   ]
  }
 ],
 "metadata": {
  "kernelspec": {
   "display_name": "base",
   "language": "python",
   "name": "python3"
  },
  "language_info": {
   "codemirror_mode": {
    "name": "ipython",
    "version": 3
   },
   "file_extension": ".py",
   "mimetype": "text/x-python",
   "name": "python",
   "nbconvert_exporter": "python",
   "pygments_lexer": "ipython3",
   "version": "3.9.13"
  },
  "orig_nbformat": 4
 },
 "nbformat": 4,
 "nbformat_minor": 2
}
