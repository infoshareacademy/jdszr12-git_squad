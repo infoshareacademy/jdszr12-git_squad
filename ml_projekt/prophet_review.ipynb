{
 "cells": [
  {
   "cell_type": "code",
   "execution_count": 1,
   "id": "ff9f2cb5",
   "metadata": {},
   "outputs": [
    {
     "name": "stderr",
     "output_type": "stream",
     "text": [
      "Importing plotly failed. Interactive plots will not work.\n"
     ]
    }
   ],
   "source": [
    "import numpy as np\n",
    "import pandas as pd\n",
    "\n",
    "from prophet import Prophet\n",
    "from datetime import datetime\n",
    "\n",
    "pd.set_option(\"display.width\", 80) # default value\n",
    "pd.set_option('display.float_format', lambda x: '%.3f' % x)"
   ]
  },
  {
   "cell_type": "code",
   "execution_count": 2,
   "id": "286ab1a3",
   "metadata": {},
   "outputs": [],
   "source": [
    "df = pd.read_csv('household_power_consumption.txt', sep= ';', low_memory=False)"
   ]
  },
  {
   "cell_type": "code",
   "execution_count": 3,
   "id": "5fbb0bc4",
   "metadata": {},
   "outputs": [],
   "source": [
    "df.dropna(inplace=True)"
   ]
  },
  {
   "cell_type": "code",
   "execution_count": null,
   "id": "fe77473a",
   "metadata": {},
   "outputs": [],
   "source": [
    "df['Global_active_power']=df['Global_active_power'].apply(lambda x:float(x))\n",
    "df['Global_reactive_power']=df['Global_reactive_power'].apply(lambda x:float(x))\n",
    "df['Voltage']=df['Voltage'].apply(lambda x:float(x))\n",
    "df['Global_intensity']=df['Global_intensity'].apply(lambda x:float(x))\n",
    "df['Sub_metering_1']=df['Sub_metering_1'].apply(lambda x:float(x))\n",
    "df['Sub_metering_2']=df['Sub_metering_2'].apply(lambda x:float(x))"
   ]
  },
  {
   "cell_type": "code",
   "execution_count": null,
   "id": "305ef025",
   "metadata": {},
   "outputs": [],
   "source": [
    "df.isnull().sum()"
   ]
  },
  {
   "cell_type": "code",
   "execution_count": null,
   "id": "6ed76dc3",
   "metadata": {},
   "outputs": [],
   "source": [
    "df[\"date_time\"]=pd.to_datetime(df['Date'] + ' ' + df['Time'])"
   ]
  },
  {
   "cell_type": "code",
   "execution_count": null,
   "id": "aa0b0ff9",
   "metadata": {},
   "outputs": [],
   "source": [
    "df['date_time'] = pd.DatetimeIndex(df.date_time) # profilaktycznie"
   ]
  },
  {
   "cell_type": "code",
   "execution_count": null,
   "id": "3068f159",
   "metadata": {},
   "outputs": [],
   "source": [
    "df = df.drop(columns = ['Global_reactive_power', 'Voltage', 'Global_intensity',\n",
    "                        'Sub_metering_1', 'Sub_metering_2', 'Sub_metering_3',\n",
    "                        'Date', 'Time'])"
   ]
  },
  {
   "cell_type": "code",
   "execution_count": null,
   "id": "1d83b805",
   "metadata": {},
   "outputs": [],
   "source": [
    "df.index = df.date_time"
   ]
  },
  {
   "cell_type": "code",
   "execution_count": null,
   "id": "0b07ad35",
   "metadata": {},
   "outputs": [],
   "source": [
    "df['ds'] = df.index\n",
    "df['y'] = df.Global_active_power\n",
    "df.drop(['date_time','Global_active_power'],axis = 1, inplace = True)"
   ]
  },
  {
   "cell_type": "code",
   "execution_count": null,
   "id": "34c8ba9e",
   "metadata": {},
   "outputs": [],
   "source": [
    "df.head()"
   ]
  },
  {
   "cell_type": "code",
   "execution_count": null,
   "id": "116abbea",
   "metadata": {},
   "outputs": [],
   "source": [
    "m = Prophet()\n",
    "m.fit(df)"
   ]
  },
  {
   "cell_type": "code",
   "execution_count": null,
   "id": "f38688fd",
   "metadata": {},
   "outputs": [],
   "source": [
    "future = m.make_future_dataframe(periods=1826)\n",
    "future['cap'] = 8.5"
   ]
  },
  {
   "cell_type": "code",
   "execution_count": null,
   "id": "f16e8af3",
   "metadata": {},
   "outputs": [],
   "source": [
    "fcst = m.predict(future)   #Tu wyskakuje błąd \"Unable to allocate 15.3 GiB for an array with shape (1000, 2049280) and data type float64\"\n",
    "fig = m.plot(fcst)"
   ]
  }
 ],
 "metadata": {
  "kernelspec": {
   "display_name": "Python 3 (ipykernel)",
   "language": "python",
   "name": "python3"
  },
  "language_info": {
   "codemirror_mode": {
    "name": "ipython",
    "version": 3
   },
   "file_extension": ".py",
   "mimetype": "text/x-python",
   "name": "python",
   "nbconvert_exporter": "python",
   "pygments_lexer": "ipython3",
   "version": "3.9.16"
  }
 },
 "nbformat": 4,
 "nbformat_minor": 5
}
