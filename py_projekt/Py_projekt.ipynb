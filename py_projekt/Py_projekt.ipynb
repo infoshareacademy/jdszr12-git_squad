{
 "cells": [
  {
   "cell_type": "markdown",
   "id": "44ebba9e",
   "metadata": {},
   "source": [
    "# Paris roofs\n",
    "\n",
    "## Analysis of apartments in Paris\n",
    "\n",
    "A project analyzing apartments in Paris. The `csv` file containing the raw data can be found at [kaggle.com](https://www.kaggle.com/datasets/mssmartypants/paris-housing-price-prediction)"
   ]
  },
  {
   "cell_type": "markdown",
   "id": "f6a331b5",
   "metadata": {},
   "source": [
    "### Import"
   ]
  },
  {
   "cell_type": "code",
   "execution_count": 1,
   "id": "362096dd",
   "metadata": {},
   "outputs": [],
   "source": [
    "import numpy as np\n",
    "import pandas as pd\n",
    "import matplotlib.pyplot as plt\n",
    "import seaborn as sns"
   ]
  },
  {
   "cell_type": "markdown",
   "id": "7421a3b8",
   "metadata": {},
   "source": [
    "### DataFrame"
   ]
  },
  {
   "cell_type": "code",
   "execution_count": 2,
   "id": "c225ecb8",
   "metadata": {},
   "outputs": [],
   "source": [
    "df0 = pd.read_csv(\"ParisHousing.csv\", index_col=False)"
   ]
  },
  {
   "cell_type": "markdown",
   "id": "2bc708f6",
   "metadata": {},
   "source": [
    "Droping `isNewBuilt` column & rename columns (for matplotlib purpose)"
   ]
  },
  {
   "cell_type": "code",
   "execution_count": 3,
   "id": "fc19c21c",
   "metadata": {},
   "outputs": [
    {
     "data": {
      "text/html": [
       "<div>\n",
       "<style scoped>\n",
       "    .dataframe tbody tr th:only-of-type {\n",
       "        vertical-align: middle;\n",
       "    }\n",
       "\n",
       "    .dataframe tbody tr th {\n",
       "        vertical-align: top;\n",
       "    }\n",
       "\n",
       "    .dataframe thead th {\n",
       "        text-align: right;\n",
       "    }\n",
       "</style>\n",
       "<table border=\"1\" class=\"dataframe\">\n",
       "  <thead>\n",
       "    <tr style=\"text-align: right;\">\n",
       "      <th></th>\n",
       "      <th>squareMeters</th>\n",
       "      <th>numberOfRooms</th>\n",
       "      <th>hasYard</th>\n",
       "      <th>hasPool</th>\n",
       "      <th>floors</th>\n",
       "      <th>cityCode</th>\n",
       "      <th>cityPartRange</th>\n",
       "      <th>numPrevOwners</th>\n",
       "      <th>made</th>\n",
       "      <th>hasStormProtector</th>\n",
       "      <th>basement</th>\n",
       "      <th>attic</th>\n",
       "      <th>garage</th>\n",
       "      <th>hasStorageRoom</th>\n",
       "      <th>hasGuestRoom</th>\n",
       "      <th>price</th>\n",
       "    </tr>\n",
       "  </thead>\n",
       "  <tbody>\n",
       "    <tr>\n",
       "      <th>0</th>\n",
       "      <td>75523</td>\n",
       "      <td>3</td>\n",
       "      <td>0</td>\n",
       "      <td>1</td>\n",
       "      <td>63</td>\n",
       "      <td>9373</td>\n",
       "      <td>3</td>\n",
       "      <td>8</td>\n",
       "      <td>2005</td>\n",
       "      <td>1</td>\n",
       "      <td>4313</td>\n",
       "      <td>9005</td>\n",
       "      <td>956</td>\n",
       "      <td>0</td>\n",
       "      <td>7</td>\n",
       "      <td>7559081.5</td>\n",
       "    </tr>\n",
       "    <tr>\n",
       "      <th>1</th>\n",
       "      <td>80771</td>\n",
       "      <td>39</td>\n",
       "      <td>1</td>\n",
       "      <td>1</td>\n",
       "      <td>98</td>\n",
       "      <td>39381</td>\n",
       "      <td>8</td>\n",
       "      <td>6</td>\n",
       "      <td>2015</td>\n",
       "      <td>0</td>\n",
       "      <td>3653</td>\n",
       "      <td>2436</td>\n",
       "      <td>128</td>\n",
       "      <td>1</td>\n",
       "      <td>2</td>\n",
       "      <td>8085989.5</td>\n",
       "    </tr>\n",
       "    <tr>\n",
       "      <th>2</th>\n",
       "      <td>55712</td>\n",
       "      <td>58</td>\n",
       "      <td>0</td>\n",
       "      <td>1</td>\n",
       "      <td>19</td>\n",
       "      <td>34457</td>\n",
       "      <td>6</td>\n",
       "      <td>8</td>\n",
       "      <td>2021</td>\n",
       "      <td>0</td>\n",
       "      <td>2937</td>\n",
       "      <td>8852</td>\n",
       "      <td>135</td>\n",
       "      <td>1</td>\n",
       "      <td>9</td>\n",
       "      <td>5574642.1</td>\n",
       "    </tr>\n",
       "    <tr>\n",
       "      <th>3</th>\n",
       "      <td>32316</td>\n",
       "      <td>47</td>\n",
       "      <td>0</td>\n",
       "      <td>0</td>\n",
       "      <td>6</td>\n",
       "      <td>27939</td>\n",
       "      <td>10</td>\n",
       "      <td>4</td>\n",
       "      <td>2012</td>\n",
       "      <td>1</td>\n",
       "      <td>659</td>\n",
       "      <td>7141</td>\n",
       "      <td>359</td>\n",
       "      <td>0</td>\n",
       "      <td>3</td>\n",
       "      <td>3232561.2</td>\n",
       "    </tr>\n",
       "    <tr>\n",
       "      <th>4</th>\n",
       "      <td>70429</td>\n",
       "      <td>19</td>\n",
       "      <td>1</td>\n",
       "      <td>1</td>\n",
       "      <td>90</td>\n",
       "      <td>38045</td>\n",
       "      <td>3</td>\n",
       "      <td>7</td>\n",
       "      <td>1990</td>\n",
       "      <td>0</td>\n",
       "      <td>8435</td>\n",
       "      <td>2429</td>\n",
       "      <td>292</td>\n",
       "      <td>1</td>\n",
       "      <td>4</td>\n",
       "      <td>7055052.0</td>\n",
       "    </tr>\n",
       "  </tbody>\n",
       "</table>\n",
       "</div>"
      ],
      "text/plain": [
       "   squareMeters  numberOfRooms  hasYard  hasPool  floors  cityCode  \\\n",
       "0         75523              3        0        1      63      9373   \n",
       "1         80771             39        1        1      98     39381   \n",
       "2         55712             58        0        1      19     34457   \n",
       "3         32316             47        0        0       6     27939   \n",
       "4         70429             19        1        1      90     38045   \n",
       "\n",
       "   cityPartRange  numPrevOwners  made  hasStormProtector  basement  attic  \\\n",
       "0              3              8  2005                  1      4313   9005   \n",
       "1              8              6  2015                  0      3653   2436   \n",
       "2              6              8  2021                  0      2937   8852   \n",
       "3             10              4  2012                  1       659   7141   \n",
       "4              3              7  1990                  0      8435   2429   \n",
       "\n",
       "   garage  hasStorageRoom  hasGuestRoom      price  \n",
       "0     956               0             7  7559081.5  \n",
       "1     128               1             2  8085989.5  \n",
       "2     135               1             9  5574642.1  \n",
       "3     359               0             3  3232561.2  \n",
       "4     292               1             4  7055052.0  "
      ]
     },
     "execution_count": 3,
     "metadata": {},
     "output_type": "execute_result"
    }
   ],
   "source": [
    "df0.drop('isNewBuilt', inplace=True, axis=1)\n",
    "df0.head()"
   ]
  },
  {
   "cell_type": "code",
   "execution_count": 4,
   "id": "0d1f22fe",
   "metadata": {},
   "outputs": [],
   "source": [
    "df = df0.rename(columns={\"squareMeters\": \"Metry_kwadratowe\",\n",
    "                   \"numberOfRooms\": \"Liczba_pokoi\",\n",
    "                   \"hasYard\": \"Podworko\",\n",
    "                   \"hasPool\": \"Basen\",\n",
    "                   \"floors\": \"Pietra\",\n",
    "                   \"cityCode\": \"Kod_pocztowy\",\n",
    "                   \"cityPartRange\": \"Prestiz\",\n",
    "                   \"numPrevOwners\": \"Liczba_poprzednich_wlascicieli\",\n",
    "                   \"made\": \"Zbudowany\",\n",
    "                   \"hasStormProtector\": \"Instalacja_odgromowa\",\n",
    "                   \"basement\": \"Piwnica\",\n",
    "                   \"attic\": \"Strych\",\n",
    "                   \"garage\": \"Garaz\",\n",
    "                   \"hasStorageRoom\": \"Magazyn\",\n",
    "                   \"hasGuestRoom\": \"Goscinny\",\n",
    "                   \"price\": \"Cena\"})"
   ]
  },
  {
   "cell_type": "code",
   "execution_count": 5,
   "id": "afbf3d23",
   "metadata": {},
   "outputs": [
    {
     "data": {
      "text/plain": [
       "Metry_kwadratowe                  0\n",
       "Liczba_pokoi                      0\n",
       "Podworko                          0\n",
       "Basen                             0\n",
       "Pietra                            0\n",
       "Kod_pocztowy                      0\n",
       "Prestiz                           0\n",
       "Liczba_poprzednich_wlascicieli    0\n",
       "Zbudowany                         0\n",
       "Instalacja_odgromowa              0\n",
       "Piwnica                           0\n",
       "Strych                            0\n",
       "Garaz                             0\n",
       "Magazyn                           0\n",
       "Goscinny                          0\n",
       "Cena                              0\n",
       "dtype: int64"
      ]
     },
     "execution_count": 5,
     "metadata": {},
     "output_type": "execute_result"
    }
   ],
   "source": [
    "df.isna().sum()"
   ]
  },
  {
   "cell_type": "code",
   "execution_count": 6,
   "id": "3e45ee5d",
   "metadata": {},
   "outputs": [],
   "source": [
    "df.fillna(0, inplace=True)"
   ]
  },
  {
   "cell_type": "markdown",
   "id": "c24ce84f",
   "metadata": {},
   "source": [
    "### Data check"
   ]
  },
  {
   "cell_type": "code",
   "execution_count": 7,
   "id": "a2dbb6e2",
   "metadata": {
    "scrolled": true
   },
   "outputs": [
    {
     "name": "stdout",
     "output_type": "stream",
     "text": [
      "Shape: (10000, 16)\n",
      "\n",
      "RangeIndex(start=0, stop=10000, step=1)\n"
     ]
    }
   ],
   "source": [
    "print(f'Shape: {df.shape}\\n\\n{df.index}')"
   ]
  },
  {
   "cell_type": "code",
   "execution_count": 8,
   "id": "3ebb5fba",
   "metadata": {},
   "outputs": [
    {
     "name": "stdout",
     "output_type": "stream",
     "text": [
      "<class 'pandas.core.frame.DataFrame'>\n",
      "RangeIndex: 10000 entries, 0 to 9999\n",
      "Data columns (total 16 columns):\n",
      " #   Column                          Non-Null Count  Dtype  \n",
      "---  ------                          --------------  -----  \n",
      " 0   Metry_kwadratowe                10000 non-null  int64  \n",
      " 1   Liczba_pokoi                    10000 non-null  int64  \n",
      " 2   Podworko                        10000 non-null  int64  \n",
      " 3   Basen                           10000 non-null  int64  \n",
      " 4   Pietra                          10000 non-null  int64  \n",
      " 5   Kod_pocztowy                    10000 non-null  int64  \n",
      " 6   Prestiz                         10000 non-null  int64  \n",
      " 7   Liczba_poprzednich_wlascicieli  10000 non-null  int64  \n",
      " 8   Zbudowany                       10000 non-null  int64  \n",
      " 9   Instalacja_odgromowa            10000 non-null  int64  \n",
      " 10  Piwnica                         10000 non-null  int64  \n",
      " 11  Strych                          10000 non-null  int64  \n",
      " 12  Garaz                           10000 non-null  int64  \n",
      " 13  Magazyn                         10000 non-null  int64  \n",
      " 14  Goscinny                        10000 non-null  int64  \n",
      " 15  Cena                            10000 non-null  float64\n",
      "dtypes: float64(1), int64(15)\n",
      "memory usage: 1.2 MB\n"
     ]
    }
   ],
   "source": [
    "df.info()"
   ]
  },
  {
   "cell_type": "code",
   "execution_count": 9,
   "id": "b04f1591",
   "metadata": {
    "scrolled": true
   },
   "outputs": [
    {
     "data": {
      "text/html": [
       "<div>\n",
       "<style scoped>\n",
       "    .dataframe tbody tr th:only-of-type {\n",
       "        vertical-align: middle;\n",
       "    }\n",
       "\n",
       "    .dataframe tbody tr th {\n",
       "        vertical-align: top;\n",
       "    }\n",
       "\n",
       "    .dataframe thead th {\n",
       "        text-align: right;\n",
       "    }\n",
       "</style>\n",
       "<table border=\"1\" class=\"dataframe\">\n",
       "  <thead>\n",
       "    <tr style=\"text-align: right;\">\n",
       "      <th></th>\n",
       "      <th>Metry_kwadratowe</th>\n",
       "      <th>Liczba_pokoi</th>\n",
       "      <th>Podworko</th>\n",
       "      <th>Basen</th>\n",
       "      <th>Pietra</th>\n",
       "      <th>Kod_pocztowy</th>\n",
       "      <th>Prestiz</th>\n",
       "      <th>Liczba_poprzednich_wlascicieli</th>\n",
       "      <th>Zbudowany</th>\n",
       "      <th>Instalacja_odgromowa</th>\n",
       "      <th>Piwnica</th>\n",
       "      <th>Strych</th>\n",
       "      <th>Garaz</th>\n",
       "      <th>Magazyn</th>\n",
       "      <th>Goscinny</th>\n",
       "      <th>Cena</th>\n",
       "    </tr>\n",
       "  </thead>\n",
       "  <tbody>\n",
       "    <tr>\n",
       "      <th>count</th>\n",
       "      <td>10000.00000</td>\n",
       "      <td>10000.000000</td>\n",
       "      <td>10000.000000</td>\n",
       "      <td>10000.000000</td>\n",
       "      <td>10000.000000</td>\n",
       "      <td>10000.000000</td>\n",
       "      <td>10000.000000</td>\n",
       "      <td>10000.000000</td>\n",
       "      <td>10000.00000</td>\n",
       "      <td>10000.000000</td>\n",
       "      <td>10000.000000</td>\n",
       "      <td>10000.00000</td>\n",
       "      <td>10000.00000</td>\n",
       "      <td>10000.000000</td>\n",
       "      <td>10000.00000</td>\n",
       "      <td>1.000000e+04</td>\n",
       "    </tr>\n",
       "    <tr>\n",
       "      <th>mean</th>\n",
       "      <td>49870.13120</td>\n",
       "      <td>50.358400</td>\n",
       "      <td>0.508700</td>\n",
       "      <td>0.496800</td>\n",
       "      <td>50.276300</td>\n",
       "      <td>50225.486100</td>\n",
       "      <td>5.510100</td>\n",
       "      <td>5.521700</td>\n",
       "      <td>2005.48850</td>\n",
       "      <td>0.499900</td>\n",
       "      <td>5033.103900</td>\n",
       "      <td>5028.01060</td>\n",
       "      <td>553.12120</td>\n",
       "      <td>0.503000</td>\n",
       "      <td>4.99460</td>\n",
       "      <td>4.993448e+06</td>\n",
       "    </tr>\n",
       "    <tr>\n",
       "      <th>std</th>\n",
       "      <td>28774.37535</td>\n",
       "      <td>28.816696</td>\n",
       "      <td>0.499949</td>\n",
       "      <td>0.500015</td>\n",
       "      <td>28.889171</td>\n",
       "      <td>29006.675799</td>\n",
       "      <td>2.872024</td>\n",
       "      <td>2.856667</td>\n",
       "      <td>9.30809</td>\n",
       "      <td>0.500025</td>\n",
       "      <td>2876.729545</td>\n",
       "      <td>2894.33221</td>\n",
       "      <td>262.05017</td>\n",
       "      <td>0.500016</td>\n",
       "      <td>3.17641</td>\n",
       "      <td>2.877424e+06</td>\n",
       "    </tr>\n",
       "    <tr>\n",
       "      <th>min</th>\n",
       "      <td>89.00000</td>\n",
       "      <td>1.000000</td>\n",
       "      <td>0.000000</td>\n",
       "      <td>0.000000</td>\n",
       "      <td>1.000000</td>\n",
       "      <td>3.000000</td>\n",
       "      <td>1.000000</td>\n",
       "      <td>1.000000</td>\n",
       "      <td>1990.00000</td>\n",
       "      <td>0.000000</td>\n",
       "      <td>0.000000</td>\n",
       "      <td>1.00000</td>\n",
       "      <td>100.00000</td>\n",
       "      <td>0.000000</td>\n",
       "      <td>0.00000</td>\n",
       "      <td>1.031350e+04</td>\n",
       "    </tr>\n",
       "    <tr>\n",
       "      <th>25%</th>\n",
       "      <td>25098.50000</td>\n",
       "      <td>25.000000</td>\n",
       "      <td>0.000000</td>\n",
       "      <td>0.000000</td>\n",
       "      <td>25.000000</td>\n",
       "      <td>24693.750000</td>\n",
       "      <td>3.000000</td>\n",
       "      <td>3.000000</td>\n",
       "      <td>1997.00000</td>\n",
       "      <td>0.000000</td>\n",
       "      <td>2559.750000</td>\n",
       "      <td>2512.00000</td>\n",
       "      <td>327.75000</td>\n",
       "      <td>0.000000</td>\n",
       "      <td>2.00000</td>\n",
       "      <td>2.516402e+06</td>\n",
       "    </tr>\n",
       "    <tr>\n",
       "      <th>50%</th>\n",
       "      <td>50105.50000</td>\n",
       "      <td>50.000000</td>\n",
       "      <td>1.000000</td>\n",
       "      <td>0.000000</td>\n",
       "      <td>50.000000</td>\n",
       "      <td>50693.000000</td>\n",
       "      <td>5.000000</td>\n",
       "      <td>5.000000</td>\n",
       "      <td>2005.50000</td>\n",
       "      <td>0.000000</td>\n",
       "      <td>5092.500000</td>\n",
       "      <td>5045.00000</td>\n",
       "      <td>554.00000</td>\n",
       "      <td>1.000000</td>\n",
       "      <td>5.00000</td>\n",
       "      <td>5.016180e+06</td>\n",
       "    </tr>\n",
       "    <tr>\n",
       "      <th>75%</th>\n",
       "      <td>74609.75000</td>\n",
       "      <td>75.000000</td>\n",
       "      <td>1.000000</td>\n",
       "      <td>1.000000</td>\n",
       "      <td>76.000000</td>\n",
       "      <td>75683.250000</td>\n",
       "      <td>8.000000</td>\n",
       "      <td>8.000000</td>\n",
       "      <td>2014.00000</td>\n",
       "      <td>1.000000</td>\n",
       "      <td>7511.250000</td>\n",
       "      <td>7540.50000</td>\n",
       "      <td>777.25000</td>\n",
       "      <td>1.000000</td>\n",
       "      <td>8.00000</td>\n",
       "      <td>7.469092e+06</td>\n",
       "    </tr>\n",
       "    <tr>\n",
       "      <th>max</th>\n",
       "      <td>99999.00000</td>\n",
       "      <td>100.000000</td>\n",
       "      <td>1.000000</td>\n",
       "      <td>1.000000</td>\n",
       "      <td>100.000000</td>\n",
       "      <td>99953.000000</td>\n",
       "      <td>10.000000</td>\n",
       "      <td>10.000000</td>\n",
       "      <td>2021.00000</td>\n",
       "      <td>1.000000</td>\n",
       "      <td>10000.000000</td>\n",
       "      <td>10000.00000</td>\n",
       "      <td>1000.00000</td>\n",
       "      <td>1.000000</td>\n",
       "      <td>10.00000</td>\n",
       "      <td>1.000677e+07</td>\n",
       "    </tr>\n",
       "  </tbody>\n",
       "</table>\n",
       "</div>"
      ],
      "text/plain": [
       "       Metry_kwadratowe  Liczba_pokoi      Podworko         Basen  \\\n",
       "count       10000.00000  10000.000000  10000.000000  10000.000000   \n",
       "mean        49870.13120     50.358400      0.508700      0.496800   \n",
       "std         28774.37535     28.816696      0.499949      0.500015   \n",
       "min            89.00000      1.000000      0.000000      0.000000   \n",
       "25%         25098.50000     25.000000      0.000000      0.000000   \n",
       "50%         50105.50000     50.000000      1.000000      0.000000   \n",
       "75%         74609.75000     75.000000      1.000000      1.000000   \n",
       "max         99999.00000    100.000000      1.000000      1.000000   \n",
       "\n",
       "             Pietra  Kod_pocztowy       Prestiz  \\\n",
       "count  10000.000000  10000.000000  10000.000000   \n",
       "mean      50.276300  50225.486100      5.510100   \n",
       "std       28.889171  29006.675799      2.872024   \n",
       "min        1.000000      3.000000      1.000000   \n",
       "25%       25.000000  24693.750000      3.000000   \n",
       "50%       50.000000  50693.000000      5.000000   \n",
       "75%       76.000000  75683.250000      8.000000   \n",
       "max      100.000000  99953.000000     10.000000   \n",
       "\n",
       "       Liczba_poprzednich_wlascicieli    Zbudowany  Instalacja_odgromowa  \\\n",
       "count                    10000.000000  10000.00000          10000.000000   \n",
       "mean                         5.521700   2005.48850              0.499900   \n",
       "std                          2.856667      9.30809              0.500025   \n",
       "min                          1.000000   1990.00000              0.000000   \n",
       "25%                          3.000000   1997.00000              0.000000   \n",
       "50%                          5.000000   2005.50000              0.000000   \n",
       "75%                          8.000000   2014.00000              1.000000   \n",
       "max                         10.000000   2021.00000              1.000000   \n",
       "\n",
       "            Piwnica       Strych        Garaz       Magazyn     Goscinny  \\\n",
       "count  10000.000000  10000.00000  10000.00000  10000.000000  10000.00000   \n",
       "mean    5033.103900   5028.01060    553.12120      0.503000      4.99460   \n",
       "std     2876.729545   2894.33221    262.05017      0.500016      3.17641   \n",
       "min        0.000000      1.00000    100.00000      0.000000      0.00000   \n",
       "25%     2559.750000   2512.00000    327.75000      0.000000      2.00000   \n",
       "50%     5092.500000   5045.00000    554.00000      1.000000      5.00000   \n",
       "75%     7511.250000   7540.50000    777.25000      1.000000      8.00000   \n",
       "max    10000.000000  10000.00000   1000.00000      1.000000     10.00000   \n",
       "\n",
       "               Cena  \n",
       "count  1.000000e+04  \n",
       "mean   4.993448e+06  \n",
       "std    2.877424e+06  \n",
       "min    1.031350e+04  \n",
       "25%    2.516402e+06  \n",
       "50%    5.016180e+06  \n",
       "75%    7.469092e+06  \n",
       "max    1.000677e+07  "
      ]
     },
     "execution_count": 9,
     "metadata": {},
     "output_type": "execute_result"
    }
   ],
   "source": [
    "analysis=df.describe()\n",
    "analysis"
   ]
  },
  {
   "cell_type": "markdown",
   "id": "324f040d",
   "metadata": {},
   "source": [
    "### Data normalization\n",
    "* Square Meters"
   ]
  },
  {
   "cell_type": "code",
   "execution_count": 10,
   "id": "e5f9c167",
   "metadata": {},
   "outputs": [
    {
     "name": "stdout",
     "output_type": "stream",
     "text": [
      "Square meters to remove: \n",
      " - under: 10548.0, \n",
      " - above: 157290.0\n"
     ]
    }
   ],
   "source": [
    "mean_meters = analysis.loc['mean','Metry_kwadratowe']\n",
    "min_meters = round(mean_meters - analysis.loc['std','Metry_kwadratowe'],0)\n",
    "max_meters = round(mean_meters+ analysis.loc['std','Metry_kwadratowe'],0)\n",
    "\n",
    "print(f'Square meters to remove: \\n - under: {min_meters//2}, \\n - above: {max_meters*2}')"
   ]
  },
  {
   "cell_type": "code",
   "execution_count": 11,
   "id": "70426468",
   "metadata": {},
   "outputs": [],
   "source": [
    "df = df[(df.Metry_kwadratowe > min_meters//2) & (df.Metry_kwadratowe < max_meters*2)]\n",
    "#df"
   ]
  },
  {
   "cell_type": "markdown",
   "id": "196c079a",
   "metadata": {},
   "source": [
    "* Number of rooms"
   ]
  },
  {
   "cell_type": "code",
   "execution_count": 12,
   "id": "8576b9a0",
   "metadata": {},
   "outputs": [
    {
     "name": "stdout",
     "output_type": "stream",
     "text": [
      "Number of rooms to remove: \n",
      " - under: 11.0\n"
     ]
    }
   ],
   "source": [
    "mean_rooms = analysis.loc['mean','Liczba_pokoi']\n",
    "min_rooms = round(mean_rooms - analysis.loc['std','Liczba_pokoi'],0)\n",
    "max_rooms = round(mean_rooms+ analysis.loc['std','Liczba_pokoi'],0)\n",
    "\n",
    "print(f'Number of rooms to remove: \\n - under: {min_rooms//2}')"
   ]
  },
  {
   "cell_type": "code",
   "execution_count": 13,
   "id": "1b3de562",
   "metadata": {},
   "outputs": [],
   "source": [
    "df = df[(df.Liczba_pokoi > min_rooms//2)]\n",
    "#df.tail(50)"
   ]
  },
  {
   "cell_type": "markdown",
   "id": "2c92aa2d",
   "metadata": {},
   "source": [
    "* Floors"
   ]
  },
  {
   "cell_type": "code",
   "execution_count": 14,
   "id": "6267d73a",
   "metadata": {},
   "outputs": [
    {
     "name": "stdout",
     "output_type": "stream",
     "text": [
      "Floors to remove: \n",
      " - under: 10.0, \n",
      " - above: 158.0\n"
     ]
    }
   ],
   "source": [
    "mean_floors = analysis.loc['mean','Pietra']\n",
    "min_floors = round(mean_floors - analysis.loc['std','Pietra'],0)\n",
    "max_floors = round(mean_floors+ analysis.loc['std','Pietra'],0)\n",
    "\n",
    "print(f'Floors to remove: \\n - under: {min_floors//2}, \\n - above: {max_floors*2}')"
   ]
  },
  {
   "cell_type": "code",
   "execution_count": 15,
   "id": "0e1d35bb",
   "metadata": {},
   "outputs": [],
   "source": [
    "df = df[(df.Pietra > min_floors//2)]\n",
    "#df.head(50)"
   ]
  },
  {
   "cell_type": "markdown",
   "id": "85c9b84c",
   "metadata": {},
   "source": [
    "#### Previous owners & Made - without normalization (narrow range)"
   ]
  },
  {
   "cell_type": "markdown",
   "id": "577ff3f1",
   "metadata": {},
   "source": [
    "* Basement"
   ]
  },
  {
   "cell_type": "code",
   "execution_count": 16,
   "id": "0fe20a03",
   "metadata": {},
   "outputs": [
    {
     "name": "stdout",
     "output_type": "stream",
     "text": [
      "Basement to remove: \n",
      " - under: 1078.0, \n",
      " - above: 15820.0 \n",
      " and if Basement > Square_Meters\n"
     ]
    }
   ],
   "source": [
    "mean_basement = analysis.loc['mean','Piwnica']\n",
    "min_basement = round(mean_basement - analysis.loc['std','Piwnica'],0)\n",
    "max_basement = round(mean_basement+ analysis.loc['std','Piwnica'],0)\n",
    "\n",
    "print(f'Basement to remove: \\n - under: {min_basement//2}, \\n - above: {max_basement*2} \\n and if Basement > Square_Meters')"
   ]
  },
  {
   "cell_type": "code",
   "execution_count": 17,
   "id": "f52f047c",
   "metadata": {},
   "outputs": [],
   "source": [
    "df = df[(df.Piwnica > min_basement//2) & (df.Piwnica < df.Metry_kwadratowe)]\n",
    "#df.head(50)"
   ]
  },
  {
   "cell_type": "markdown",
   "id": "ee32143b",
   "metadata": {},
   "source": [
    "* Attic"
   ]
  },
  {
   "cell_type": "code",
   "execution_count": 18,
   "id": "7a10e56f",
   "metadata": {},
   "outputs": [
    {
     "name": "stdout",
     "output_type": "stream",
     "text": [
      "Attic to remove: \n",
      " - under: 1067.0, \n",
      " - above: 15844.0 \n",
      " and if Attic > Square_Meters\n"
     ]
    }
   ],
   "source": [
    "mean_attic = analysis.loc['mean','Strych']\n",
    "min_attic = round(mean_attic - analysis.loc['std','Strych'],0)\n",
    "max_attic = round(mean_attic + analysis.loc['std','Strych'],0)\n",
    "\n",
    "print(f'Attic to remove: \\n - under: {min_attic//2}, \\n - above: {max_attic*2} \\n and if Attic > Square_Meters')"
   ]
  },
  {
   "cell_type": "code",
   "execution_count": 19,
   "id": "ba1f6319",
   "metadata": {},
   "outputs": [],
   "source": [
    "df = df[(df.Strych > min_attic//2) & (df.Strych < df.Metry_kwadratowe)]\n",
    "#df.head(50)"
   ]
  },
  {
   "cell_type": "markdown",
   "id": "e8ec362e",
   "metadata": {},
   "source": [
    "* garage"
   ]
  },
  {
   "cell_type": "code",
   "execution_count": 20,
   "id": "a31cdca3",
   "metadata": {
    "scrolled": true
   },
   "outputs": [
    {
     "name": "stdout",
     "output_type": "stream",
     "text": [
      "Garage to remove: \n",
      " - under: 145.0, \n",
      " - above: 1630.0 \n",
      " and if jesli Garage > Square_Meters\n"
     ]
    }
   ],
   "source": [
    "mean_garage = analysis.loc['mean','Garaz']\n",
    "min_garage = round(mean_garage - analysis.loc['std','Garaz'],0)\n",
    "max_garage = round(mean_garage + analysis.loc['std','Garaz'],0)\n",
    "\n",
    "print(f'Garage to remove: \\n - under: {min_garage//2}, \\n - above: {max_garage*2} \\n and if jesli Garage > Square_Meters')"
   ]
  },
  {
   "cell_type": "code",
   "execution_count": 21,
   "id": "40f5e0a4",
   "metadata": {
    "scrolled": true
   },
   "outputs": [],
   "source": [
    "df = df[(df.Garaz > min_garage//2) & (df.Garaz < df.Metry_kwadratowe)]\n",
    "#df.head(50)"
   ]
  },
  {
   "cell_type": "markdown",
   "id": "4c898421",
   "metadata": {},
   "source": [
    "#### Reseting index & printing shape"
   ]
  },
  {
   "cell_type": "code",
   "execution_count": 22,
   "id": "4ae79ca2",
   "metadata": {
    "scrolled": true
   },
   "outputs": [],
   "source": [
    "df = df.reset_index()"
   ]
  },
  {
   "cell_type": "markdown",
   "id": "ab734438",
   "metadata": {},
   "source": [
    "#### Export DataFrame to new `csv` file"
   ]
  },
  {
   "cell_type": "code",
   "execution_count": 23,
   "id": "3ca3faf5",
   "metadata": {},
   "outputs": [],
   "source": [
    "df.to_csv(\"PariCleaned.csv\", index=False)"
   ]
  },
  {
   "cell_type": "code",
   "execution_count": 24,
   "id": "32a8b9a0",
   "metadata": {},
   "outputs": [
    {
     "name": "stdout",
     "output_type": "stream",
     "text": [
      "Shape: (5437, 17)\n"
     ]
    }
   ],
   "source": [
    "print(f'Shape: {df.shape}')"
   ]
  }
 ],
 "metadata": {
  "kernelspec": {
   "display_name": "Python 3 (ipykernel)",
   "language": "python",
   "name": "python3"
  },
  "language_info": {
   "codemirror_mode": {
    "name": "ipython",
    "version": 3
   },
   "file_extension": ".py",
   "mimetype": "text/x-python",
   "name": "python",
   "nbconvert_exporter": "python",
   "pygments_lexer": "ipython3",
   "version": "3.9.13"
  }
 },
 "nbformat": 4,
 "nbformat_minor": 5
}
