{
 "cells": [
  {
   "cell_type": "markdown",
   "id": "44ebba9e",
   "metadata": {},
   "source": [
    "# Paris roofs\n",
    "\n",
    "## Analysis of apartments in Paris\n",
    "\n",
    "A project analyzing apartments in Paris. The `csv` file containing the raw data can be found at [kaggle.com](https://www.kaggle.com/datasets/mssmartypants/paris-housing-price-prediction)"
   ]
  },
  {
   "cell_type": "markdown",
   "id": "f6a331b5",
   "metadata": {},
   "source": [
    "### Import"
   ]
  },
  {
   "cell_type": "code",
   "execution_count": 2,
   "id": "362096dd",
   "metadata": {},
   "outputs": [],
   "source": [
    "import numpy as np\n",
    "import pandas as pd\n",
    "import matplotlib.pyplot as plt\n",
    "import seaborn as sns"
   ]
  },
  {
   "cell_type": "markdown",
   "id": "7421a3b8",
   "metadata": {},
   "source": [
    "### DataFrame"
   ]
  },
  {
   "cell_type": "code",
   "execution_count": 3,
   "id": "c225ecb8",
   "metadata": {},
   "outputs": [],
   "source": [
    "df0 = pd.read_csv(\"ParisHousing.csv\", index_col=False)"
   ]
  },
  {
   "cell_type": "code",
   "execution_count": 4,
   "id": "0d1f22fe",
   "metadata": {},
   "outputs": [],
   "source": [
    "df = df0.rename(columns={\"squareMeters\": \"Metry_kwadratowe\",\n",
    "                   \"numberOfRooms\": \"Liczba_pokoi\",\n",
    "                   \"hasYard\": \"Podworko\",\n",
    "                   \"hasPool\": \"Basen\",\n",
    "                   \"floors\": \"Pietra\",\n",
    "                   \"cityCode\": \"Kod_pocztowy\",\n",
    "                   \"cityPartRange\": \"Prestiz\",\n",
    "                   \"numPrevOwners\": \"Liczba_poprzednich_wlascicieli\",\n",
    "                   \"made\": \"Zdudowany\",\n",
    "                   \"isNewBuilt\": \"Nowy_budynek\",\n",
    "                   \"hasStormProtector\": \"Instalacja_odgromowa\",\n",
    "                   \"basement\": \"Piwnica\",\n",
    "                   \"attic\": \"Strych\",\n",
    "                   \"garage\": \"Garaz\",\n",
    "                   \"hasStorageRoom\": \"Magazyn\",\n",
    "                   \"hasGuestRoom\": \"Goscinny\",\n",
    "                   \"price\": \"Cena\"})"
   ]
  },
  {
   "cell_type": "code",
   "execution_count": 5,
   "id": "afbf3d23",
   "metadata": {},
   "outputs": [
    {
     "data": {
      "text/plain": [
       "Metry_kwadratowe                  0\n",
       "Liczba_pokoi                      0\n",
       "Podworko                          0\n",
       "Basen                             0\n",
       "Pietra                            0\n",
       "Kod_pocztowy                      0\n",
       "Prestiz                           0\n",
       "Liczba_poprzednich_wlascicieli    0\n",
       "Zdudowany                         0\n",
       "Nowy_budynek                      0\n",
       "Instalacja_odgromowa              0\n",
       "Piwnica                           0\n",
       "Strych                            0\n",
       "Garaz                             0\n",
       "Magazyn                           0\n",
       "Goscinny                          0\n",
       "Cena                              0\n",
       "dtype: int64"
      ]
     },
     "execution_count": 5,
     "metadata": {},
     "output_type": "execute_result"
    }
   ],
   "source": [
    "df.isna().sum()"
   ]
  },
  {
   "cell_type": "code",
   "execution_count": 6,
   "id": "3e45ee5d",
   "metadata": {},
   "outputs": [],
   "source": [
    "df.fillna(0, inplace=True)"
   ]
  },
  {
   "cell_type": "markdown",
   "id": "c24ce84f",
   "metadata": {},
   "source": [
    "### Data check"
   ]
  },
  {
   "cell_type": "code",
   "execution_count": 7,
   "id": "a2dbb6e2",
   "metadata": {
    "scrolled": true
   },
   "outputs": [
    {
     "name": "stdout",
     "output_type": "stream",
     "text": [
      "Shape: (10000, 17)\n",
      "\n",
      "RangeIndex(start=0, stop=10000, step=1)\n"
     ]
    }
   ],
   "source": [
    "print(f'Shape: {df.shape}\\n\\n{df.index}')"
   ]
  },
  {
   "cell_type": "code",
   "execution_count": 8,
   "id": "7b9b0451",
   "metadata": {},
   "outputs": [
    {
     "data": {
      "text/html": [
       "<div>\n",
       "<style scoped>\n",
       "    .dataframe tbody tr th:only-of-type {\n",
       "        vertical-align: middle;\n",
       "    }\n",
       "\n",
       "    .dataframe tbody tr th {\n",
       "        vertical-align: top;\n",
       "    }\n",
       "\n",
       "    .dataframe thead th {\n",
       "        text-align: right;\n",
       "    }\n",
       "</style>\n",
       "<table border=\"1\" class=\"dataframe\">\n",
       "  <thead>\n",
       "    <tr style=\"text-align: right;\">\n",
       "      <th></th>\n",
       "      <th>Metry_kwadratowe</th>\n",
       "      <th>Liczba_pokoi</th>\n",
       "      <th>Podworko</th>\n",
       "      <th>Basen</th>\n",
       "      <th>Pietra</th>\n",
       "      <th>Kod_pocztowy</th>\n",
       "      <th>Prestiz</th>\n",
       "      <th>Liczba_poprzednich_wlascicieli</th>\n",
       "      <th>Zdudowany</th>\n",
       "      <th>Nowy_budynek</th>\n",
       "      <th>Instalacja_odgromowa</th>\n",
       "      <th>Piwnica</th>\n",
       "      <th>Strych</th>\n",
       "      <th>Garaz</th>\n",
       "      <th>Magazyn</th>\n",
       "      <th>Goscinny</th>\n",
       "      <th>Cena</th>\n",
       "    </tr>\n",
       "  </thead>\n",
       "  <tbody>\n",
       "    <tr>\n",
       "      <th>0</th>\n",
       "      <td>75523</td>\n",
       "      <td>3</td>\n",
       "      <td>0</td>\n",
       "      <td>1</td>\n",
       "      <td>63</td>\n",
       "      <td>9373</td>\n",
       "      <td>3</td>\n",
       "      <td>8</td>\n",
       "      <td>2005</td>\n",
       "      <td>0</td>\n",
       "      <td>1</td>\n",
       "      <td>4313</td>\n",
       "      <td>9005</td>\n",
       "      <td>956</td>\n",
       "      <td>0</td>\n",
       "      <td>7</td>\n",
       "      <td>7559081.5</td>\n",
       "    </tr>\n",
       "    <tr>\n",
       "      <th>1</th>\n",
       "      <td>80771</td>\n",
       "      <td>39</td>\n",
       "      <td>1</td>\n",
       "      <td>1</td>\n",
       "      <td>98</td>\n",
       "      <td>39381</td>\n",
       "      <td>8</td>\n",
       "      <td>6</td>\n",
       "      <td>2015</td>\n",
       "      <td>1</td>\n",
       "      <td>0</td>\n",
       "      <td>3653</td>\n",
       "      <td>2436</td>\n",
       "      <td>128</td>\n",
       "      <td>1</td>\n",
       "      <td>2</td>\n",
       "      <td>8085989.5</td>\n",
       "    </tr>\n",
       "    <tr>\n",
       "      <th>2</th>\n",
       "      <td>55712</td>\n",
       "      <td>58</td>\n",
       "      <td>0</td>\n",
       "      <td>1</td>\n",
       "      <td>19</td>\n",
       "      <td>34457</td>\n",
       "      <td>6</td>\n",
       "      <td>8</td>\n",
       "      <td>2021</td>\n",
       "      <td>0</td>\n",
       "      <td>0</td>\n",
       "      <td>2937</td>\n",
       "      <td>8852</td>\n",
       "      <td>135</td>\n",
       "      <td>1</td>\n",
       "      <td>9</td>\n",
       "      <td>5574642.1</td>\n",
       "    </tr>\n",
       "    <tr>\n",
       "      <th>3</th>\n",
       "      <td>32316</td>\n",
       "      <td>47</td>\n",
       "      <td>0</td>\n",
       "      <td>0</td>\n",
       "      <td>6</td>\n",
       "      <td>27939</td>\n",
       "      <td>10</td>\n",
       "      <td>4</td>\n",
       "      <td>2012</td>\n",
       "      <td>0</td>\n",
       "      <td>1</td>\n",
       "      <td>659</td>\n",
       "      <td>7141</td>\n",
       "      <td>359</td>\n",
       "      <td>0</td>\n",
       "      <td>3</td>\n",
       "      <td>3232561.2</td>\n",
       "    </tr>\n",
       "  </tbody>\n",
       "</table>\n",
       "</div>"
      ],
      "text/plain": [
       "   Metry_kwadratowe  Liczba_pokoi  Podworko  Basen  Pietra  Kod_pocztowy  \\\n",
       "0             75523             3         0      1      63          9373   \n",
       "1             80771            39         1      1      98         39381   \n",
       "2             55712            58         0      1      19         34457   \n",
       "3             32316            47         0      0       6         27939   \n",
       "\n",
       "   Prestiz  Liczba_poprzednich_wlascicieli  Zdudowany  Nowy_budynek  \\\n",
       "0        3                               8       2005             0   \n",
       "1        8                               6       2015             1   \n",
       "2        6                               8       2021             0   \n",
       "3       10                               4       2012             0   \n",
       "\n",
       "   Instalacja_odgromowa  Piwnica  Strych  Garaz  Magazyn  Goscinny       Cena  \n",
       "0                     1     4313    9005    956        0         7  7559081.5  \n",
       "1                     0     3653    2436    128        1         2  8085989.5  \n",
       "2                     0     2937    8852    135        1         9  5574642.1  \n",
       "3                     1      659    7141    359        0         3  3232561.2  "
      ]
     },
     "execution_count": 8,
     "metadata": {},
     "output_type": "execute_result"
    }
   ],
   "source": [
    "df.head(4)"
   ]
  },
  {
   "cell_type": "code",
   "execution_count": 9,
   "id": "3ebb5fba",
   "metadata": {},
   "outputs": [
    {
     "name": "stdout",
     "output_type": "stream",
     "text": [
      "<class 'pandas.core.frame.DataFrame'>\n",
      "RangeIndex: 10000 entries, 0 to 9999\n",
      "Data columns (total 17 columns):\n",
      " #   Column                          Non-Null Count  Dtype  \n",
      "---  ------                          --------------  -----  \n",
      " 0   Metry_kwadratowe                10000 non-null  int64  \n",
      " 1   Liczba_pokoi                    10000 non-null  int64  \n",
      " 2   Podworko                        10000 non-null  int64  \n",
      " 3   Basen                           10000 non-null  int64  \n",
      " 4   Pietra                          10000 non-null  int64  \n",
      " 5   Kod_pocztowy                    10000 non-null  int64  \n",
      " 6   Prestiz                         10000 non-null  int64  \n",
      " 7   Liczba_poprzednich_wlascicieli  10000 non-null  int64  \n",
      " 8   Zdudowany                       10000 non-null  int64  \n",
      " 9   Nowy_budynek                    10000 non-null  int64  \n",
      " 10  Instalacja_odgromowa            10000 non-null  int64  \n",
      " 11  Piwnica                         10000 non-null  int64  \n",
      " 12  Strych                          10000 non-null  int64  \n",
      " 13  Garaz                           10000 non-null  int64  \n",
      " 14  Magazyn                         10000 non-null  int64  \n",
      " 15  Goscinny                        10000 non-null  int64  \n",
      " 16  Cena                            10000 non-null  float64\n",
      "dtypes: float64(1), int64(16)\n",
      "memory usage: 1.3 MB\n"
     ]
    }
   ],
   "source": [
    "df.info()"
   ]
  },
  {
   "cell_type": "code",
   "execution_count": 10,
   "id": "b04f1591",
   "metadata": {
    "scrolled": true
   },
   "outputs": [
    {
     "data": {
      "text/html": [
       "<div>\n",
       "<style scoped>\n",
       "    .dataframe tbody tr th:only-of-type {\n",
       "        vertical-align: middle;\n",
       "    }\n",
       "\n",
       "    .dataframe tbody tr th {\n",
       "        vertical-align: top;\n",
       "    }\n",
       "\n",
       "    .dataframe thead th {\n",
       "        text-align: right;\n",
       "    }\n",
       "</style>\n",
       "<table border=\"1\" class=\"dataframe\">\n",
       "  <thead>\n",
       "    <tr style=\"text-align: right;\">\n",
       "      <th></th>\n",
       "      <th>Metry_kwadratowe</th>\n",
       "      <th>Liczba_pokoi</th>\n",
       "      <th>Podworko</th>\n",
       "      <th>Basen</th>\n",
       "      <th>Pietra</th>\n",
       "      <th>Kod_pocztowy</th>\n",
       "      <th>Prestiz</th>\n",
       "      <th>Liczba_poprzednich_wlascicieli</th>\n",
       "      <th>Zdudowany</th>\n",
       "      <th>Nowy_budynek</th>\n",
       "      <th>Instalacja_odgromowa</th>\n",
       "      <th>Piwnica</th>\n",
       "      <th>Strych</th>\n",
       "      <th>Garaz</th>\n",
       "      <th>Magazyn</th>\n",
       "      <th>Goscinny</th>\n",
       "      <th>Cena</th>\n",
       "    </tr>\n",
       "  </thead>\n",
       "  <tbody>\n",
       "    <tr>\n",
       "      <th>count</th>\n",
       "      <td>10000.00000</td>\n",
       "      <td>10000.000000</td>\n",
       "      <td>10000.000000</td>\n",
       "      <td>10000.000000</td>\n",
       "      <td>10000.000000</td>\n",
       "      <td>10000.000000</td>\n",
       "      <td>10000.000000</td>\n",
       "      <td>10000.000000</td>\n",
       "      <td>10000.00000</td>\n",
       "      <td>10000.000000</td>\n",
       "      <td>10000.000000</td>\n",
       "      <td>10000.000000</td>\n",
       "      <td>10000.00000</td>\n",
       "      <td>10000.00000</td>\n",
       "      <td>10000.000000</td>\n",
       "      <td>10000.00000</td>\n",
       "      <td>1.000000e+04</td>\n",
       "    </tr>\n",
       "    <tr>\n",
       "      <th>mean</th>\n",
       "      <td>49870.13120</td>\n",
       "      <td>50.358400</td>\n",
       "      <td>0.508700</td>\n",
       "      <td>0.496800</td>\n",
       "      <td>50.276300</td>\n",
       "      <td>50225.486100</td>\n",
       "      <td>5.510100</td>\n",
       "      <td>5.521700</td>\n",
       "      <td>2005.48850</td>\n",
       "      <td>0.499100</td>\n",
       "      <td>0.499900</td>\n",
       "      <td>5033.103900</td>\n",
       "      <td>5028.01060</td>\n",
       "      <td>553.12120</td>\n",
       "      <td>0.503000</td>\n",
       "      <td>4.99460</td>\n",
       "      <td>4.993448e+06</td>\n",
       "    </tr>\n",
       "    <tr>\n",
       "      <th>std</th>\n",
       "      <td>28774.37535</td>\n",
       "      <td>28.816696</td>\n",
       "      <td>0.499949</td>\n",
       "      <td>0.500015</td>\n",
       "      <td>28.889171</td>\n",
       "      <td>29006.675799</td>\n",
       "      <td>2.872024</td>\n",
       "      <td>2.856667</td>\n",
       "      <td>9.30809</td>\n",
       "      <td>0.500024</td>\n",
       "      <td>0.500025</td>\n",
       "      <td>2876.729545</td>\n",
       "      <td>2894.33221</td>\n",
       "      <td>262.05017</td>\n",
       "      <td>0.500016</td>\n",
       "      <td>3.17641</td>\n",
       "      <td>2.877424e+06</td>\n",
       "    </tr>\n",
       "    <tr>\n",
       "      <th>min</th>\n",
       "      <td>89.00000</td>\n",
       "      <td>1.000000</td>\n",
       "      <td>0.000000</td>\n",
       "      <td>0.000000</td>\n",
       "      <td>1.000000</td>\n",
       "      <td>3.000000</td>\n",
       "      <td>1.000000</td>\n",
       "      <td>1.000000</td>\n",
       "      <td>1990.00000</td>\n",
       "      <td>0.000000</td>\n",
       "      <td>0.000000</td>\n",
       "      <td>0.000000</td>\n",
       "      <td>1.00000</td>\n",
       "      <td>100.00000</td>\n",
       "      <td>0.000000</td>\n",
       "      <td>0.00000</td>\n",
       "      <td>1.031350e+04</td>\n",
       "    </tr>\n",
       "    <tr>\n",
       "      <th>25%</th>\n",
       "      <td>25098.50000</td>\n",
       "      <td>25.000000</td>\n",
       "      <td>0.000000</td>\n",
       "      <td>0.000000</td>\n",
       "      <td>25.000000</td>\n",
       "      <td>24693.750000</td>\n",
       "      <td>3.000000</td>\n",
       "      <td>3.000000</td>\n",
       "      <td>1997.00000</td>\n",
       "      <td>0.000000</td>\n",
       "      <td>0.000000</td>\n",
       "      <td>2559.750000</td>\n",
       "      <td>2512.00000</td>\n",
       "      <td>327.75000</td>\n",
       "      <td>0.000000</td>\n",
       "      <td>2.00000</td>\n",
       "      <td>2.516402e+06</td>\n",
       "    </tr>\n",
       "    <tr>\n",
       "      <th>50%</th>\n",
       "      <td>50105.50000</td>\n",
       "      <td>50.000000</td>\n",
       "      <td>1.000000</td>\n",
       "      <td>0.000000</td>\n",
       "      <td>50.000000</td>\n",
       "      <td>50693.000000</td>\n",
       "      <td>5.000000</td>\n",
       "      <td>5.000000</td>\n",
       "      <td>2005.50000</td>\n",
       "      <td>0.000000</td>\n",
       "      <td>0.000000</td>\n",
       "      <td>5092.500000</td>\n",
       "      <td>5045.00000</td>\n",
       "      <td>554.00000</td>\n",
       "      <td>1.000000</td>\n",
       "      <td>5.00000</td>\n",
       "      <td>5.016180e+06</td>\n",
       "    </tr>\n",
       "    <tr>\n",
       "      <th>75%</th>\n",
       "      <td>74609.75000</td>\n",
       "      <td>75.000000</td>\n",
       "      <td>1.000000</td>\n",
       "      <td>1.000000</td>\n",
       "      <td>76.000000</td>\n",
       "      <td>75683.250000</td>\n",
       "      <td>8.000000</td>\n",
       "      <td>8.000000</td>\n",
       "      <td>2014.00000</td>\n",
       "      <td>1.000000</td>\n",
       "      <td>1.000000</td>\n",
       "      <td>7511.250000</td>\n",
       "      <td>7540.50000</td>\n",
       "      <td>777.25000</td>\n",
       "      <td>1.000000</td>\n",
       "      <td>8.00000</td>\n",
       "      <td>7.469092e+06</td>\n",
       "    </tr>\n",
       "    <tr>\n",
       "      <th>max</th>\n",
       "      <td>99999.00000</td>\n",
       "      <td>100.000000</td>\n",
       "      <td>1.000000</td>\n",
       "      <td>1.000000</td>\n",
       "      <td>100.000000</td>\n",
       "      <td>99953.000000</td>\n",
       "      <td>10.000000</td>\n",
       "      <td>10.000000</td>\n",
       "      <td>2021.00000</td>\n",
       "      <td>1.000000</td>\n",
       "      <td>1.000000</td>\n",
       "      <td>10000.000000</td>\n",
       "      <td>10000.00000</td>\n",
       "      <td>1000.00000</td>\n",
       "      <td>1.000000</td>\n",
       "      <td>10.00000</td>\n",
       "      <td>1.000677e+07</td>\n",
       "    </tr>\n",
       "  </tbody>\n",
       "</table>\n",
       "</div>"
      ],
      "text/plain": [
       "       Metry_kwadratowe  Liczba_pokoi      Podworko         Basen  \\\n",
       "count       10000.00000  10000.000000  10000.000000  10000.000000   \n",
       "mean        49870.13120     50.358400      0.508700      0.496800   \n",
       "std         28774.37535     28.816696      0.499949      0.500015   \n",
       "min            89.00000      1.000000      0.000000      0.000000   \n",
       "25%         25098.50000     25.000000      0.000000      0.000000   \n",
       "50%         50105.50000     50.000000      1.000000      0.000000   \n",
       "75%         74609.75000     75.000000      1.000000      1.000000   \n",
       "max         99999.00000    100.000000      1.000000      1.000000   \n",
       "\n",
       "             Pietra  Kod_pocztowy       Prestiz  \\\n",
       "count  10000.000000  10000.000000  10000.000000   \n",
       "mean      50.276300  50225.486100      5.510100   \n",
       "std       28.889171  29006.675799      2.872024   \n",
       "min        1.000000      3.000000      1.000000   \n",
       "25%       25.000000  24693.750000      3.000000   \n",
       "50%       50.000000  50693.000000      5.000000   \n",
       "75%       76.000000  75683.250000      8.000000   \n",
       "max      100.000000  99953.000000     10.000000   \n",
       "\n",
       "       Liczba_poprzednich_wlascicieli    Zdudowany  Nowy_budynek  \\\n",
       "count                    10000.000000  10000.00000  10000.000000   \n",
       "mean                         5.521700   2005.48850      0.499100   \n",
       "std                          2.856667      9.30809      0.500024   \n",
       "min                          1.000000   1990.00000      0.000000   \n",
       "25%                          3.000000   1997.00000      0.000000   \n",
       "50%                          5.000000   2005.50000      0.000000   \n",
       "75%                          8.000000   2014.00000      1.000000   \n",
       "max                         10.000000   2021.00000      1.000000   \n",
       "\n",
       "       Instalacja_odgromowa       Piwnica       Strych        Garaz  \\\n",
       "count          10000.000000  10000.000000  10000.00000  10000.00000   \n",
       "mean               0.499900   5033.103900   5028.01060    553.12120   \n",
       "std                0.500025   2876.729545   2894.33221    262.05017   \n",
       "min                0.000000      0.000000      1.00000    100.00000   \n",
       "25%                0.000000   2559.750000   2512.00000    327.75000   \n",
       "50%                0.000000   5092.500000   5045.00000    554.00000   \n",
       "75%                1.000000   7511.250000   7540.50000    777.25000   \n",
       "max                1.000000  10000.000000  10000.00000   1000.00000   \n",
       "\n",
       "            Magazyn     Goscinny          Cena  \n",
       "count  10000.000000  10000.00000  1.000000e+04  \n",
       "mean       0.503000      4.99460  4.993448e+06  \n",
       "std        0.500016      3.17641  2.877424e+06  \n",
       "min        0.000000      0.00000  1.031350e+04  \n",
       "25%        0.000000      2.00000  2.516402e+06  \n",
       "50%        1.000000      5.00000  5.016180e+06  \n",
       "75%        1.000000      8.00000  7.469092e+06  \n",
       "max        1.000000     10.00000  1.000677e+07  "
      ]
     },
     "execution_count": 10,
     "metadata": {},
     "output_type": "execute_result"
    }
   ],
   "source": [
    "analysis=df.describe()\n",
    "analysis"
   ]
  },
  {
   "cell_type": "markdown",
   "id": "6c881be5",
   "metadata": {},
   "source": [
    "### Data normalization"
   ]
  },
  {
   "cell_type": "code",
   "execution_count": 28,
   "id": "e9680529",
   "metadata": {},
   "outputs": [
    {
     "name": "stdout",
     "output_type": "stream",
     "text": [
      "Metry_kwadratowe do usunięcia: \n",
      " - poniżej: 10548.0, \n",
      " - powyżej: 157290.0\n"
     ]
    }
   ],
   "source": [
    "### Metry_kwadratowe\n",
    "mean_meters = analysis.loc['mean','Metry_kwadratowe']\n",
    "min_meters = round(mean_meters - analysis.loc['std','Metry_kwadratowe'],0)\n",
    "max_meters = round(mean_meters+ analysis.loc['std','Metry_kwadratowe'],0)\n",
    "\n",
    "print(f'Metry_kwadratowe do usunięcia: \\n - poniżej: {min_meters//2}, \\n - powyżej: {max_meters*2}')"
   ]
  },
  {
   "cell_type": "code",
   "execution_count": 21,
   "id": "57d18226",
   "metadata": {},
   "outputs": [
    {
     "name": "stdout",
     "output_type": "stream",
     "text": [
      "Liczba_pokoi do usunięcia: \n",
      " - poniżej: 11.0\n"
     ]
    }
   ],
   "source": [
    "### Liczba_pokoi\n",
    "mean_rooms = analysis.loc['mean','Liczba_pokoi']\n",
    "min_rooms = round(mean_rooms - analysis.loc['std','Liczba_pokoi'],0)\n",
    "max_rooms = round(mean_rooms+ analysis.loc['std','Liczba_pokoi'],0)\n",
    "\n",
    "print(f'Liczba_pokoi do usunięcia: \\n - poniżej: {min_rooms//2}')"
   ]
  },
  {
   "cell_type": "code",
   "execution_count": 26,
   "id": "724fe595",
   "metadata": {},
   "outputs": [
    {
     "name": "stdout",
     "output_type": "stream",
     "text": [
      "Pietra do usunięcia: \n",
      " - poniżej: 10.0, \n",
      " - powyżej: 158.0\n"
     ]
    }
   ],
   "source": [
    "### Pietra\n",
    "mean_floors = analysis.loc['mean','Pietra']\n",
    "min_floors = round(mean_floors - analysis.loc['std','Pietra'],0)\n",
    "max_floors = round(mean_floors+ analysis.loc['std','Pietra'],0)\n",
    "\n",
    "print(f'Pietra do usunięcia: \\n - poniżej: {min_floors//2}, \\n - powyżej: {max_floors*2}')"
   ]
  },
  {
   "cell_type": "code",
   "execution_count": null,
   "id": "c69dc353",
   "metadata": {},
   "outputs": [],
   "source": [
    "##Liczba_poprzednich_wlascicieli and Zbudowany without normalization (narrow range)"
   ]
  },
  {
   "cell_type": "code",
   "execution_count": null,
   "id": "e2192b5a",
   "metadata": {},
   "outputs": [],
   "source": [
    "  \"basement\": \"Piwnica\",\n",
    "                   \"attic\": \"Strych\",\n",
    "                   \"garage\": \"Garaz\","
   ]
  },
  {
   "cell_type": "code",
   "execution_count": 29,
   "id": "f5013384",
   "metadata": {},
   "outputs": [
    {
     "name": "stdout",
     "output_type": "stream",
     "text": [
      "Piwnica do usunięcia: \n",
      " - poniżej: 1078.0, \n",
      " - powyżej: 15820.0\n"
     ]
    }
   ],
   "source": [
    "### Piwnica\n",
    "mean_basement = analysis.loc['mean','Piwnica']\n",
    "min_basement = round(mean_basement - analysis.loc['std','Piwnica'],0)\n",
    "max_basement = round(mean_basement+ analysis.loc['std','Piwnica'],0)\n",
    "\n",
    "print(f'Piwnica do usunięcia: \\n - poniżej: {min_basement//2}, \\n - powyżej: {max_basement*2}')"
   ]
  },
  {
   "cell_type": "code",
   "execution_count": null,
   "id": "3770755c",
   "metadata": {},
   "outputs": [],
   "source": [
    "### Strych"
   ]
  },
  {
   "cell_type": "code",
   "execution_count": null,
   "id": "e2d49e0d",
   "metadata": {},
   "outputs": [],
   "source": [
    "### Garaz"
   ]
  }
 ],
 "metadata": {
  "kernelspec": {
   "display_name": "Python 3 (ipykernel)",
   "language": "python",
   "name": "python3"
  },
  "language_info": {
   "codemirror_mode": {
    "name": "ipython",
    "version": 3
   },
   "file_extension": ".py",
   "mimetype": "text/x-python",
   "name": "python",
   "nbconvert_exporter": "python",
   "pygments_lexer": "ipython3",
   "version": "3.9.13"
  }
 },
 "nbformat": 4,
 "nbformat_minor": 5
}
