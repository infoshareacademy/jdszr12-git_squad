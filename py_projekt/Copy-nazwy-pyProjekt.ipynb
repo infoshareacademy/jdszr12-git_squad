{
 "cells": [
  {
   "cell_type": "code",
   "execution_count": 2,
   "id": "79ad227e",
   "metadata": {},
   "outputs": [],
   "source": [
    "import numpy as np\n",
    "import pandas as pd\n",
    "import matplotlib.pyplot as plt\n",
    "import seaborn as sns"
   ]
  },
  {
   "cell_type": "code",
   "execution_count": 3,
   "id": "47515dd2",
   "metadata": {},
   "outputs": [],
   "source": [
    "# Default value\n",
    "pd.set_option(\"display.width\", 80)\n",
    "pd.set_option('display.float_format', lambda x: '%.2f' % x)"
   ]
  },
  {
   "attachments": {},
   "cell_type": "markdown",
   "id": "a39745dc",
   "metadata": {},
   "source": [
    "====================================================================================="
   ]
  },
  {
   "cell_type": "code",
   "execution_count": 4,
   "id": "0001e142",
   "metadata": {},
   "outputs": [],
   "source": [
    "el_la = pd.read_csv(\"El-Nino.csv\", sep=';', encoding=\"Windows-1250\")\n",
    "#el_la"
   ]
  },
  {
   "cell_type": "code",
   "execution_count": 5,
   "id": "94d9ef49",
   "metadata": {},
   "outputs": [],
   "source": [
    "el_la_to_drop = [1950, 1951, 1952, 1953, 1954, 1955, 1956, 1957, 1958, 1959, 1960]\n",
    "\n",
    "for i in range(len(el_la_to_drop)):\n",
    "    el_la.drop(el_la[el_la['year'] == el_la_to_drop[i]].index, inplace=True)"
   ]
  },
  {
   "cell_type": "code",
   "execution_count": 6,
   "id": "0a7869f2",
   "metadata": {},
   "outputs": [],
   "source": [
    "el_la.reset_index(drop=True,inplace=True)\n",
    "#el_la"
   ]
  },
  {
   "cell_type": "code",
   "execution_count": 7,
   "id": "0a8f321f",
   "metadata": {},
   "outputs": [],
   "source": [
    "# El Niño\n",
    "# 0.5 START\n",
    "# 0.5 Weak\n",
    "# 1.0 Moderate\n",
    "# 1.5 Strong\n",
    "# 2.0 Very Strong \n",
    "# La Niña\n",
    "# -0.5 START\n",
    "# -0.5 Weak\n",
    "# -1.0 Moderate\n",
    "# -1.5 Strong\n",
    "# -2.0 Very Strong"
   ]
  },
  {
   "cell_type": "code",
   "execution_count": 8,
   "id": "a7823c84",
   "metadata": {},
   "outputs": [],
   "source": [
    "el_la['mean'] = ''"
   ]
  },
  {
   "cell_type": "code",
   "execution_count": 9,
   "id": "e5feb3a6",
   "metadata": {},
   "outputs": [],
   "source": [
    "for i in range(el_la.shape[0]):\n",
    "    el_la.iloc[i,-1] = round(np.mean(el_la.loc[i][-13:-1]),1)"
   ]
  },
  {
   "cell_type": "code",
   "execution_count": 10,
   "id": "e8593914",
   "metadata": {},
   "outputs": [],
   "source": [
    "el_la.drop(['January', 'February', 'March', 'April', 'May', 'June', 'July', 'August', 'September', 'October', 'November', 'December'], axis=1, inplace=True)"
   ]
  },
  {
   "cell_type": "code",
   "execution_count": 11,
   "id": "1b9680c3",
   "metadata": {},
   "outputs": [],
   "source": [
    "#el_la #.reset_index()"
   ]
  },
  {
   "cell_type": "code",
   "execution_count": 12,
   "id": "a7608790",
   "metadata": {},
   "outputs": [],
   "source": [
    "el_la['area'] = 'El Nino - La Nina'"
   ]
  },
  {
   "cell_type": "code",
   "execution_count": 13,
   "id": "ccb07509",
   "metadata": {},
   "outputs": [],
   "source": [
    "el_la_p = el_la.pivot(index='area', columns='year', values='mean')\n",
    "\n",
    "el_la_p = el_la_p.reset_index()"
   ]
  },
  {
   "cell_type": "code",
   "execution_count": 14,
   "id": "7a9be8d4",
   "metadata": {},
   "outputs": [
    {
     "data": {
      "text/html": [
       "<div>\n",
       "<style scoped>\n",
       "    .dataframe tbody tr th:only-of-type {\n",
       "        vertical-align: middle;\n",
       "    }\n",
       "\n",
       "    .dataframe tbody tr th {\n",
       "        vertical-align: top;\n",
       "    }\n",
       "\n",
       "    .dataframe thead th {\n",
       "        text-align: right;\n",
       "    }\n",
       "</style>\n",
       "<table border=\"1\" class=\"dataframe\">\n",
       "  <thead>\n",
       "    <tr style=\"text-align: right;\">\n",
       "      <th>year</th>\n",
       "      <th>area</th>\n",
       "      <th>1961</th>\n",
       "      <th>1962</th>\n",
       "      <th>1963</th>\n",
       "      <th>1964</th>\n",
       "      <th>1965</th>\n",
       "      <th>1966</th>\n",
       "      <th>1967</th>\n",
       "      <th>1968</th>\n",
       "      <th>1969</th>\n",
       "      <th>...</th>\n",
       "      <th>2010</th>\n",
       "      <th>2011</th>\n",
       "      <th>2012</th>\n",
       "      <th>2013</th>\n",
       "      <th>2014</th>\n",
       "      <th>2015</th>\n",
       "      <th>2016</th>\n",
       "      <th>2017</th>\n",
       "      <th>2018</th>\n",
       "      <th>2019</th>\n",
       "    </tr>\n",
       "  </thead>\n",
       "  <tbody>\n",
       "    <tr>\n",
       "      <th>0</th>\n",
       "      <td>El Nino - La Nina</td>\n",
       "      <td>-0.20</td>\n",
       "      <td>-0.00</td>\n",
       "      <td>0.60</td>\n",
       "      <td>-0.30</td>\n",
       "      <td>1.30</td>\n",
       "      <td>-0.20</td>\n",
       "      <td>-0.30</td>\n",
       "      <td>0.70</td>\n",
       "      <td>0.40</td>\n",
       "      <td>...</td>\n",
       "      <td>-1.20</td>\n",
       "      <td>-0.60</td>\n",
       "      <td>-0.10</td>\n",
       "      <td>-0.20</td>\n",
       "      <td>0.60</td>\n",
       "      <td>1.70</td>\n",
       "      <td>-0.20</td>\n",
       "      <td>-0.50</td>\n",
       "      <td>0.60</td>\n",
       "      <td>0.30</td>\n",
       "    </tr>\n",
       "  </tbody>\n",
       "</table>\n",
       "<p>1 rows × 60 columns</p>\n",
       "</div>"
      ],
      "text/plain": [
       "year               area  1961  1962 1963  1964 1965  1966  1967 1968 1969   \n",
       "0     El Nino - La Nina -0.20 -0.00 0.60 -0.30 1.30 -0.20 -0.30 0.70 0.40  \\\n",
       "\n",
       "year  ...  2010  2011  2012  2013 2014 2015  2016  2017 2018 2019  \n",
       "0     ... -1.20 -0.60 -0.10 -0.20 0.60 1.70 -0.20 -0.50 0.60 0.30  \n",
       "\n",
       "[1 rows x 60 columns]"
      ]
     },
     "execution_count": 14,
     "metadata": {},
     "output_type": "execute_result"
    }
   ],
   "source": [
    "el_la_p"
   ]
  },
  {
   "attachments": {},
   "cell_type": "markdown",
   "id": "f2ebb02c",
   "metadata": {},
   "source": [
    "====================================================================================="
   ]
  },
  {
   "cell_type": "code",
   "execution_count": 15,
   "id": "aadb516b",
   "metadata": {},
   "outputs": [],
   "source": [
    "# Default DataFrame (ZMIENIONA ŚCIEŻKA POD MÓJ DYSK W GOOGLE CLOUD)\n",
    "temp = pd.read_csv(\"https://raw.githubusercontent.com/infoshareacademy/jdszr12-git_squad/main/py_projekt/Environment_Temperature_change_E_All_Data_NOFLAG.csv\", encoding=\"Windows-1250\") #index_col=False\n",
    "#df.head(1)"
   ]
  },
  {
   "cell_type": "code",
   "execution_count": 16,
   "id": "97ecfb5f",
   "metadata": {},
   "outputs": [],
   "source": [
    "# Replacing comas in string\n",
    "temp['Area'] = temp['Area'].str.replace(',','')\n",
    "# Replacing quote in string\n",
    "temp['Area'] = temp['Area'].str.replace('\\\"','')"
   ]
  },
  {
   "cell_type": "code",
   "execution_count": 17,
   "id": "f8bf40a1",
   "metadata": {},
   "outputs": [
    {
     "data": {
      "text/plain": [
       "Index(['Area Code', 'Area', 'Months Code', 'Months', 'Element Code', 'Element',\n",
       "       'Unit', 'Y1961', 'Y1962', 'Y1963', 'Y1964', 'Y1965', 'Y1966', 'Y1967',\n",
       "       'Y1968', 'Y1969', 'Y1970', 'Y1971', 'Y1972', 'Y1973', 'Y1974', 'Y1975',\n",
       "       'Y1976', 'Y1977', 'Y1978', 'Y1979', 'Y1980', 'Y1981', 'Y1982', 'Y1983',\n",
       "       'Y1984', 'Y1985', 'Y1986', 'Y1987', 'Y1988', 'Y1989', 'Y1990', 'Y1991',\n",
       "       'Y1992', 'Y1993', 'Y1994', 'Y1995', 'Y1996', 'Y1997', 'Y1998', 'Y1999',\n",
       "       'Y2000', 'Y2001', 'Y2002', 'Y2003', 'Y2004', 'Y2005', 'Y2006', 'Y2007',\n",
       "       'Y2008', 'Y2009', 'Y2010', 'Y2011', 'Y2012', 'Y2013', 'Y2014', 'Y2015',\n",
       "       'Y2016', 'Y2017', 'Y2018', 'Y2019'],\n",
       "      dtype='object')"
      ]
     },
     "execution_count": 17,
     "metadata": {},
     "output_type": "execute_result"
    }
   ],
   "source": [
    "temp.columns   "
   ]
  },
  {
   "cell_type": "code",
   "execution_count": 18,
   "id": "7fa03896",
   "metadata": {},
   "outputs": [
    {
     "data": {
      "text/plain": [
       "array(['January', 'February', 'March', 'April', 'May', 'June', 'July',\n",
       "       'August', 'September', 'October', 'November', 'December',\n",
       "       'Dec–Jan–Feb', 'Mar–Apr–May', 'Jun–Jul–Aug', 'Sep–Oct–Nov',\n",
       "       'Meteorological year'], dtype=object)"
      ]
     },
     "execution_count": 18,
     "metadata": {},
     "output_type": "execute_result"
    }
   ],
   "source": [
    "temp['Months'].unique()"
   ]
  },
  {
   "cell_type": "code",
   "execution_count": 19,
   "id": "77a36b9b",
   "metadata": {},
   "outputs": [],
   "source": [
    "temp['Months'] = temp['Months'].replace(\"Dec–Jan–Feb\", \"Winter\")\n",
    "temp['Months'] = temp['Months'].replace(\"Mar–Apr–May\", \"Spring\")\n",
    "temp['Months'] = temp['Months'].replace(\"Jun–Jul–Aug\", \"Summer\")\n",
    "temp['Months'] = temp['Months'].replace(\"Sep–Oct–Nov\", \"Autumn\")\n",
    "temp.columns = temp.columns.str.replace('Y', '')\n",
    "temp.drop('Unit', axis=1, inplace=True)\n",
    "temp = temp.rename(columns={\"Area Code\": \"area_code\",\n",
    "                            \"Area\": \"area\",\n",
    "                            \"Months Code\": \"months_code\",\n",
    "                            \"Months\": \"months\",\n",
    "                            \"Element Code\": \"element_code\",\n",
    "                            \"Element\": \"element\"})"
   ]
  },
  {
   "cell_type": "code",
   "execution_count": 20,
   "id": "5eca4c96",
   "metadata": {},
   "outputs": [
    {
     "data": {
      "text/html": [
       "<div>\n",
       "<style scoped>\n",
       "    .dataframe tbody tr th:only-of-type {\n",
       "        vertical-align: middle;\n",
       "    }\n",
       "\n",
       "    .dataframe tbody tr th {\n",
       "        vertical-align: top;\n",
       "    }\n",
       "\n",
       "    .dataframe thead th {\n",
       "        text-align: right;\n",
       "    }\n",
       "</style>\n",
       "<table border=\"1\" class=\"dataframe\">\n",
       "  <thead>\n",
       "    <tr style=\"text-align: right;\">\n",
       "      <th></th>\n",
       "      <th>area_code</th>\n",
       "      <th>area</th>\n",
       "      <th>months_code</th>\n",
       "      <th>months</th>\n",
       "      <th>element_code</th>\n",
       "      <th>element</th>\n",
       "      <th>1961</th>\n",
       "      <th>1962</th>\n",
       "      <th>1963</th>\n",
       "      <th>1964</th>\n",
       "      <th>...</th>\n",
       "      <th>2010</th>\n",
       "      <th>2011</th>\n",
       "      <th>2012</th>\n",
       "      <th>2013</th>\n",
       "      <th>2014</th>\n",
       "      <th>2015</th>\n",
       "      <th>2016</th>\n",
       "      <th>2017</th>\n",
       "      <th>2018</th>\n",
       "      <th>2019</th>\n",
       "    </tr>\n",
       "  </thead>\n",
       "  <tbody>\n",
       "    <tr>\n",
       "      <th>0</th>\n",
       "      <td>2</td>\n",
       "      <td>Afghanistan</td>\n",
       "      <td>7001</td>\n",
       "      <td>January</td>\n",
       "      <td>7271</td>\n",
       "      <td>Temperature change</td>\n",
       "      <td>0.78</td>\n",
       "      <td>0.06</td>\n",
       "      <td>2.74</td>\n",
       "      <td>-5.23</td>\n",
       "      <td>...</td>\n",
       "      <td>3.60</td>\n",
       "      <td>1.18</td>\n",
       "      <td>-0.58</td>\n",
       "      <td>1.23</td>\n",
       "      <td>1.75</td>\n",
       "      <td>1.94</td>\n",
       "      <td>3.42</td>\n",
       "      <td>1.20</td>\n",
       "      <td>2.00</td>\n",
       "      <td>2.95</td>\n",
       "    </tr>\n",
       "  </tbody>\n",
       "</table>\n",
       "<p>1 rows × 65 columns</p>\n",
       "</div>"
      ],
      "text/plain": [
       "   area_code         area  months_code   months  element_code   \n",
       "0          2  Afghanistan         7001  January          7271  \\\n",
       "\n",
       "              element  1961  1962  1963  1964  ...  2010  2011  2012  2013   \n",
       "0  Temperature change  0.78  0.06  2.74 -5.23  ...  3.60  1.18 -0.58  1.23  \\\n",
       "\n",
       "   2014  2015  2016  2017  2018  2019  \n",
       "0  1.75  1.94  3.42  1.20  2.00  2.95  \n",
       "\n",
       "[1 rows x 65 columns]"
      ]
     },
     "execution_count": 20,
     "metadata": {},
     "output_type": "execute_result"
    }
   ],
   "source": [
    "temp.head(1)"
   ]
  },
  {
   "cell_type": "code",
   "execution_count": 21,
   "id": "9b45268a",
   "metadata": {},
   "outputs": [],
   "source": [
    "# Select the row that contains USSR in the area column\n",
    "ussr_row = temp.loc[temp['area'] == 'USSR']\n",
    "#ussr_row.loc[:,'1961':'2019'].isna()"
   ]
  },
  {
   "cell_type": "code",
   "execution_count": 22,
   "id": "fc64236c",
   "metadata": {},
   "outputs": [],
   "source": [
    "# for loop array\n",
    "ussr_area = ['Armenia', 'Azerbaijan', 'Belarus', 'Estonia',\n",
    "             'Georgia', 'Kazakhstan', 'Kyrgyzstan', 'Latvia',\n",
    "             'Lithuania', 'Republic of Moldova', 'Russian Federation',\n",
    "             'Tajikistan', 'Turkmenistan', 'Ukraine', 'Uzbekistan']\n",
    "\n",
    "# Check NAN, from-to which year to update from ussr_row variable\n",
    "# for i in range(len(ussr_area)):\n",
    "#     print(temp.loc[temp['area'] == ussr_area[i]].loc[:,'1961':'2019'].isna())\n",
    "\n",
    "\n",
    "# Non loop verision\n",
    "# armenia_row = temp.loc[temp['area'] == 'Armenia']\n",
    "# armenia_row.loc[:,'1961':'2019'].isna()"
   ]
  },
  {
   "cell_type": "code",
   "execution_count": 23,
   "id": "1c7ffe89",
   "metadata": {},
   "outputs": [],
   "source": [
    "# Copy the non-NAN values from USSR row to appropriate NAN value\n",
    "# in years columns in appropriate country-area row (from ussr_area array)\n",
    "for i in range(len(ussr_area)):\n",
    "    temp.loc[temp['area'] == ussr_area[i], '1961':'1991'] = ussr_row.loc[:,'1961':'1991'].values\n",
    "\n",
    "# Non loop verision\n",
    "# temp.loc[temp['area'] == 'Armenia', '1961':'1991'] = ussr_row.loc[:,'1961':'1991'].values"
   ]
  },
  {
   "cell_type": "code",
   "execution_count": 24,
   "id": "d218bb49",
   "metadata": {},
   "outputs": [],
   "source": [
    "# Select the row that contains Belgium-Luxembourg in the area column\n",
    "belgium_lux_row = temp.loc[temp['area'] == 'Belgium-Luxembourg']\n",
    "#belgium_lux_row.loc[:,'1961':'2019'].isna()"
   ]
  },
  {
   "cell_type": "code",
   "execution_count": 25,
   "id": "ecd13608",
   "metadata": {},
   "outputs": [],
   "source": [
    "# for loop array\n",
    "bel_lux_area = ['Belgium', 'Luxembourg']\n",
    "\n",
    "# Check NAN, from-to which year to update from bel_lux_area variable\n",
    "# for i in range(len(bel_lux_area)):\n",
    "#     print(temp.loc[temp['area'] == bel_lux_area[i]].loc[:,'1961':'2019'].isna())"
   ]
  },
  {
   "cell_type": "code",
   "execution_count": 26,
   "id": "aabd908d",
   "metadata": {},
   "outputs": [],
   "source": [
    "# Copy the non-NAN values from Belgium-Luxembourg row to appropriate NAN value\n",
    "# in years columns in appropriate country-area row (from bel_lux_area array)\n",
    "for i in range(len(bel_lux_area)):\n",
    "    temp.loc[temp['area'] == bel_lux_area[i], '1961':'1999'] = belgium_lux_row.loc[:,'1961':'1999'].values"
   ]
  },
  {
   "cell_type": "code",
   "execution_count": 27,
   "id": "222476b3",
   "metadata": {},
   "outputs": [],
   "source": [
    "# Select the row that contains Czechoslovakia in the area column\n",
    "czechoslovakia_row = temp.loc[temp['area'] == 'Czechoslovakia']\n",
    "# czechoslovakia_row.loc[:,'1961':'2019'].isna()"
   ]
  },
  {
   "cell_type": "code",
   "execution_count": 28,
   "id": "f70000e8",
   "metadata": {},
   "outputs": [],
   "source": [
    "# for loop array\n",
    "czechoslovakia_area = ['Czechia', 'Slovakia']\n",
    "\n",
    "# Check NAN, from-to which year to update from czechoslovakia_area variable\n",
    "# for i in range(len(czechoslovakia_area)):\n",
    "#     print(temp.loc[temp['area'] == czechoslovakia_area[i]].loc[:,'1961':'2019'].isna())"
   ]
  },
  {
   "cell_type": "code",
   "execution_count": 29,
   "id": "e9c92870",
   "metadata": {},
   "outputs": [],
   "source": [
    "# Copy the non-NAN values from Czechoslovakia row to appropriate NAN value\n",
    "# in years columns in appropriate country-area row (from czechoslovakia_area array)\n",
    "for i in range(len(czechoslovakia_area)):\n",
    "    temp.loc[temp['area'] == czechoslovakia_area[i], '1961':'1992'] = czechoslovakia_row.loc[:,'1961':'1992'].values"
   ]
  },
  {
   "cell_type": "code",
   "execution_count": 30,
   "id": "d5064f75",
   "metadata": {},
   "outputs": [],
   "source": [
    "# Select the row that contains Yugoslav SFR in the area column\n",
    "yugoslav_row = temp.loc[temp['area'] == 'Yugoslav SFR']\n",
    "# yugoslav_row.loc[:,'1961':'2019'].isna()"
   ]
  },
  {
   "cell_type": "code",
   "execution_count": 31,
   "id": "bb84df62",
   "metadata": {},
   "outputs": [],
   "source": [
    "# for loop array\n",
    "yugoslav_area = ['Croatia', 'Slovenia', 'Bosnia and Herzegovina',\n",
    "                 'North Macedonia', 'Serbia and Montenegro']\n",
    "\n",
    "# Check NAN, from-to which year to update from yugoslav_area variable\n",
    "# for i in range(len(yugoslav_area)):\n",
    "#     print(temp.loc[temp['area'] == yugoslav_area[i]].loc[:,'1961':'2019'].isna())"
   ]
  },
  {
   "cell_type": "code",
   "execution_count": 32,
   "id": "fc15c871",
   "metadata": {},
   "outputs": [],
   "source": [
    "# Copy the non-NAN values from Yugoslav SFR row to appropriate NAN value\n",
    "# in years columns in appropriate country-area row (from yugoslav_area array)\n",
    "for i in range(len(yugoslav_area)):\n",
    "    temp.loc[temp['area'] == yugoslav_area[i], '1961':'1991'] = yugoslav_row.loc[:,'1961':'1991'].values"
   ]
  },
  {
   "cell_type": "code",
   "execution_count": 33,
   "id": "fbaf065a",
   "metadata": {},
   "outputs": [],
   "source": [
    "# Select the row that contains Serbia and Montenegro in the area column\n",
    "s_m_row = temp.loc[temp['area'] == 'Serbia and Montenegro']\n",
    "# s_m_row.loc[:,'1961':'2019'].isna()"
   ]
  },
  {
   "cell_type": "code",
   "execution_count": 34,
   "id": "4773752b",
   "metadata": {},
   "outputs": [],
   "source": [
    "# for loop array\n",
    "s_m_area = ['Montenegro', 'Serbia']\n",
    "\n",
    "# Check NAN, from-to which year to update from s_m_area variable\n",
    "# for i in range(len(s_m_area)):\n",
    "#     print(temp.loc[temp['area'] == s_m_area[i]].loc[:,'1961':'2019'].isna())"
   ]
  },
  {
   "cell_type": "code",
   "execution_count": 35,
   "id": "89ca8278",
   "metadata": {},
   "outputs": [],
   "source": [
    "# Copy the non-NAN values from Serbia and Montenegro row to appropriate NAN value\n",
    "# in years columns in appropriate country-area row (from s_m_area array)\n",
    "for i in range(len(s_m_area)):\n",
    "    temp.loc[temp['area'] == s_m_area[i], '1961':'2005'] = s_m_row.loc[:,'1961':'2005'].values"
   ]
  },
  {
   "cell_type": "code",
   "execution_count": 36,
   "id": "53458163",
   "metadata": {},
   "outputs": [],
   "source": [
    "# Select the row that contains Sudan (former) in the area column\n",
    "sudan_f_row = temp.loc[temp['area'] == 'Sudan (former)']\n",
    "# sudan_f_row.loc[:,'1961':'2019'].isna()"
   ]
  },
  {
   "cell_type": "code",
   "execution_count": 37,
   "id": "fb6f45f8",
   "metadata": {},
   "outputs": [],
   "source": [
    "# for loop array\n",
    "sudan_f_area = ['Sudan', 'South Sudan']\n",
    "\n",
    "# Check NAN, from-to which year to update from sudan_f_area variable\n",
    "# for i in range(len(sudan_f_area)):\n",
    "#     print(temp.loc[temp['area'] == sudan_f_area[i]].loc[:,'1961':'2019'].isna())"
   ]
  },
  {
   "cell_type": "code",
   "execution_count": 38,
   "id": "a9bc56cd",
   "metadata": {},
   "outputs": [],
   "source": [
    "# Copy the non-NAN values from Sudan (former) row to appropriate NAN value\n",
    "# in years columns in appropriate country-area row (from sudan_f_area array)\n",
    "for i in range(len(sudan_f_area)):\n",
    "    temp.loc[temp['area'] == sudan_f_area[i], '1961':'2010'] = sudan_f_row.loc[:,'1961':'2010'].values"
   ]
  },
  {
   "cell_type": "code",
   "execution_count": 39,
   "id": "cafd8833",
   "metadata": {},
   "outputs": [],
   "source": [
    "# Select the row that contains Ethiopia PDR in the area column\n",
    "ethiopia_pdr_row = temp.loc[temp['area'] == 'Ethiopia PDR']\n",
    "# ethiopia_pdr_row.loc[:,'1961':'2019'].isna()"
   ]
  },
  {
   "cell_type": "code",
   "execution_count": 40,
   "id": "941e7e2d",
   "metadata": {},
   "outputs": [],
   "source": [
    "# Check NAN, from-to which year to update\n",
    "#temp.loc[temp['area'] == 'Ethiopia'].loc[:,'1961':'2019'].isna()"
   ]
  },
  {
   "cell_type": "code",
   "execution_count": 41,
   "id": "4e3bf88c",
   "metadata": {},
   "outputs": [],
   "source": [
    "# Copy the non-NAN values from Ethiopia PDR row to appropriate NAN value in years columns in Ethiopia row\n",
    "temp.loc[temp['area'] == 'Ethiopia', '1961':'1992'] = ethiopia_pdr_row.loc[:,'1961':'1992'].values"
   ]
  },
  {
   "cell_type": "code",
   "execution_count": 42,
   "id": "6df47f59",
   "metadata": {},
   "outputs": [],
   "source": [
    "temp_c_to_drop = ['USSR', 'Belgium-Luxembourg', 'Czechoslovakia', 'Yugoslav SFR', 'Serbia and Montenegro', 'Sudan (former)', 'Ethiopia PDR']\n",
    "\n",
    "for i in range(len(temp_c_to_drop)):\n",
    "    temp.drop(temp[temp['area'] == temp_c_to_drop[i]].index, inplace=True)"
   ]
  },
  {
   "cell_type": "code",
   "execution_count": 43,
   "id": "dfc42b82",
   "metadata": {},
   "outputs": [],
   "source": [
    "# temp.iloc[:,-59:].isna().sum()"
   ]
  },
  {
   "cell_type": "code",
   "execution_count": 44,
   "id": "ac22e0c3",
   "metadata": {},
   "outputs": [],
   "source": [
    "for i in range(temp.shape[0]):\n",
    "    temp.iloc[i,-59:] = temp.iloc[i,-59:].bfill(axis ='rows')\n",
    "    temp.iloc[i,-59:] = temp.iloc[i,-59:].ffill(axis ='rows')"
   ]
  },
  {
   "cell_type": "code",
   "execution_count": 45,
   "id": "0acfdbb7",
   "metadata": {},
   "outputs": [
    {
     "data": {
      "text/plain": [
       "1961    170\n",
       "1962    170\n",
       "1963    170\n",
       "1964    170\n",
       "1965    170\n",
       "1966    170\n",
       "1967    170\n",
       "1968    170\n",
       "1969    170\n",
       "1970    170\n",
       "1971    170\n",
       "1972    170\n",
       "1973    170\n",
       "1974    170\n",
       "1975    170\n",
       "1976    170\n",
       "1977    170\n",
       "1978    170\n",
       "1979    170\n",
       "1980    170\n",
       "1981    170\n",
       "1982    170\n",
       "1983    170\n",
       "1984    170\n",
       "1985    170\n",
       "1986    170\n",
       "1987    170\n",
       "1988    170\n",
       "1989    170\n",
       "1990    170\n",
       "1991    170\n",
       "1992    170\n",
       "1993    170\n",
       "1994    170\n",
       "1995    170\n",
       "1996    170\n",
       "1997    170\n",
       "1998    170\n",
       "1999    170\n",
       "2000    170\n",
       "2001    170\n",
       "2002    170\n",
       "2003    170\n",
       "2004    170\n",
       "2005    170\n",
       "2006    170\n",
       "2007    170\n",
       "2008    170\n",
       "2009    170\n",
       "2010    170\n",
       "2011    170\n",
       "2012    170\n",
       "2013    170\n",
       "2014    170\n",
       "2015    170\n",
       "2016    170\n",
       "2017    170\n",
       "2018    170\n",
       "2019    170\n",
       "dtype: int64"
      ]
     },
     "execution_count": 45,
     "metadata": {},
     "output_type": "execute_result"
    }
   ],
   "source": [
    "temp.iloc[:,-59:].isna().sum()"
   ]
  },
  {
   "cell_type": "code",
   "execution_count": 46,
   "id": "a4df4a09",
   "metadata": {},
   "outputs": [],
   "source": [
    "# del in temp, co2, forest, gdp, urban pop\n",
    "t_drop_rows = ['Anguilla', 'Belgium-Luxembourg', 'China mainland', 'China Taiwan Province of',\n",
    "               'Christmas Island', 'Cocos (Keeling) Islands', 'Cook Islands', 'Czechoslovakia',\n",
    "               'Ethiopia PDR', 'Falkland Islands (Malvinas)', 'French Guiana', \n",
    "               'French Southern and Antarctic Territories', 'Guadeloupe', 'Holy See', 'Martinique',\n",
    "               'Mayotte', 'Midway Island', 'Montserrat', 'Netherlands Antilles (former)', 'Niue',\n",
    "               'Norfolk Island', 'Pitcairn Islands', 'Réunion', 'Saint Helena Ascension and Tristan da Cunha',\n",
    "               'Saint Pierre and Miquelon', 'Serbia and Montenegro', 'South Georgia and the South Sandwich Islands',\n",
    "               'Sudan (former)', 'Svalbard and Jan Mayen Islands', 'Tokelau', 'USSR', 'Wake Island',\n",
    "               'Wallis and Futuna Islands', 'Yugoslav SFR']\n",
    "\n",
    "for i in range(len(t_drop_rows)):\n",
    "    temp.drop(temp[temp['area'] == t_drop_rows[i]].index, inplace=True)"
   ]
  },
  {
   "cell_type": "code",
   "execution_count": 47,
   "id": "fdbd0396",
   "metadata": {},
   "outputs": [],
   "source": [
    "t_rename = {'Bolivia (Plurinational State of)': 'Bolivia', \n",
    "'Bosnia and Herzegovina': 'Bosnia and Herz.', \n",
    "'Brunei Darussalam': 'Brunei', \n",
    "'Caribbean': 'Caribbean small states', \n",
    "'Central African Republic': 'Central African Rep.', \n",
    "'Congo': 'Congo', \n",
    "'Côte d\\'Ivoire': 'Côte d\\'Ivoire', \n",
    "'Democratic Republic of the Congo': 'Dem. Rep. Congo', \n",
    "'Dominican Republic': 'Dominican Rep.', \n",
    "'Equatorial Guinea': 'Eq. Guinea', \n",
    "'Eswatini': 'eSwatini', \n",
    "'Falkland Islands (Malvinas)': 'Falkland Is.', \n",
    "'French Southern and Antarctic Territories': 'Fr. S. Antarctic Lands', \n",
    "'Iran (Islamic Republic of)': 'Iran', \n",
    "'Lao People\\'s Democratic Republic': 'Laos', \n",
    "'Micronesia (Federated States of)': 'Micronesia Fed. Sts.', \n",
    "'Republic of Moldova': 'Moldova', \n",
    "'Democratic People\\'s Republic of Korea': 'North Korea', \n",
    "'Pacific Islands Trust Territory': 'Pacific island small states', \n",
    "'Réunion': 'Reunion', \n",
    "'Russian Federation': 'Russia', \n",
    "'South Sudan': 'S. Sudan', \n",
    "'Slovakia': 'Slovakia', \n",
    "'Solomon Islands': 'Solomon Is.', \n",
    "'Republic of Korea': 'South Korea', \n",
    "'Saint Kitts and Nevis': 'St. Kitts and Nevis', \n",
    "'Saint Lucia': 'St. Lucia', \n",
    "'Saint Vincent and the Grenadines': 'St. Vincent and the Grenadines', \n",
    "'Syrian Arab Republic': 'Syria', \n",
    "'China Taiwan Province of': 'Taiwan', \n",
    "'United Republic of Tanzania': 'Tanzania', \n",
    "'Venezuela (Bolivarian Republic of)': 'Venezuela', \n",
    "'Viet Nam': 'Vietnam', \n",
    "'United States Virgin Islands': 'Virgin Islands (U.S.)'}\n",
    "\n",
    "temp['area'] = temp['area'].replace(t_rename)"
   ]
  },
  {
   "attachments": {},
   "cell_type": "markdown",
   "id": "a356b90b",
   "metadata": {},
   "source": [
    "====================================================================================="
   ]
  },
  {
   "cell_type": "code",
   "execution_count": 48,
   "id": "d22127d9",
   "metadata": {},
   "outputs": [
    {
     "data": {
      "text/plain": [
       "Index(['country_code', 'country_name', 'year', 'value'], dtype='object')"
      ]
     },
     "execution_count": 48,
     "metadata": {},
     "output_type": "execute_result"
    }
   ],
   "source": [
    "co20 = pd.read_csv(\"https://raw.githubusercontent.com/infoshareacademy/jdszr12-git_squad/main/py_projekt/co2.csv\", encoding=\"Windows-1250\")\n",
    "co20.columns"
   ]
  },
  {
   "cell_type": "code",
   "execution_count": 49,
   "id": "67db515b",
   "metadata": {},
   "outputs": [
    {
     "data": {
      "text/html": [
       "<div>\n",
       "<style scoped>\n",
       "    .dataframe tbody tr th:only-of-type {\n",
       "        vertical-align: middle;\n",
       "    }\n",
       "\n",
       "    .dataframe tbody tr th {\n",
       "        vertical-align: top;\n",
       "    }\n",
       "\n",
       "    .dataframe thead th {\n",
       "        text-align: right;\n",
       "    }\n",
       "</style>\n",
       "<table border=\"1\" class=\"dataframe\">\n",
       "  <thead>\n",
       "    <tr style=\"text-align: right;\">\n",
       "      <th></th>\n",
       "      <th>country_code</th>\n",
       "      <th>country_name</th>\n",
       "      <th>year</th>\n",
       "      <th>value</th>\n",
       "    </tr>\n",
       "  </thead>\n",
       "  <tbody>\n",
       "    <tr>\n",
       "      <th>118</th>\n",
       "      <td>AFG</td>\n",
       "      <td>Afghanistan</td>\n",
       "      <td>1961</td>\n",
       "      <td>491.38</td>\n",
       "    </tr>\n",
       "  </tbody>\n",
       "</table>\n",
       "</div>"
      ],
      "text/plain": [
       "    country_code country_name  year  value\n",
       "118          AFG  Afghanistan  1961 491.38"
      ]
     },
     "execution_count": 49,
     "metadata": {},
     "output_type": "execute_result"
    }
   ],
   "source": [
    "co20['country_name'] = co20['country_name'].str.replace(',','')\n",
    "co20 = co20.loc[(co20['year'] >= 1961)]\n",
    "co20 = co20.sort_values(by=['country_name','year'])\n",
    "\n",
    "co20.head(1)"
   ]
  },
  {
   "cell_type": "code",
   "execution_count": 50,
   "id": "84997849",
   "metadata": {},
   "outputs": [],
   "source": [
    "all_countries1 = co20['country_name'].unique()\n",
    "\n",
    "for i in range(len(all_countries1)):\n",
    "    co2 = co20.pivot(index='country_name', columns='year', values='value')\n",
    "\n",
    "co2 = co2.reset_index()\n",
    "\n",
    "for i in range(co2.shape[0]):\n",
    "    co2.iloc[i,-59:] = co2.iloc[i,-59:].bfill(axis ='rows')\n",
    "    co2.iloc[i,-59:] = co2.iloc[i,-59:].ffill(axis ='rows')\n",
    "\n",
    "#co2.columns\n",
    "#co2.iloc[:,0]\n",
    "\n",
    "#co2"
   ]
  },
  {
   "cell_type": "code",
   "execution_count": 51,
   "id": "1de6668f",
   "metadata": {},
   "outputs": [],
   "source": [
    "c_drop_rows = ['Bermuda', 'Curacao', 'Kosovo','Sint Maarten (Dutch part)']\n",
    "# (MISS c_drop_rows: Channel Islands, Guam, Isle of Man, Monaco, Puerto Rico, San Marino, United States Virgin Islands)\n",
    "# (rename inside co2: Turkey -> Turkiye ->(zmiana nazwy 1989 i 1990)) -> zrobić by było wszędzie Turkey\n",
    "co2['country_name'] = co2['country_name'].str.replace('Turkiye','Turkey')\n",
    "\n",
    "for i in range(len(c_drop_rows)):\n",
    "    co2.drop(co2[co2['country_name'] == c_drop_rows[i]].index, inplace=True)"
   ]
  },
  {
   "cell_type": "code",
   "execution_count": 52,
   "id": "98bba49c",
   "metadata": {},
   "outputs": [],
   "source": [
    "c_rename = {'Bahamas The': 'Bahamas', \n",
    "'Bosnia and Herzegovina': 'Bosnia and Herz.', \n",
    "'Brunei Darussalam': 'Brunei', \n",
    "'Caribbean small states': 'Caribbean small states', \n",
    "'Central African Republic': 'Central African Rep.', \n",
    "'Congo Rep.': 'Congo', \n",
    "'Cote d\\'Ivoire': 'Côte d\\'Ivoire', \n",
    "'Congo Dem. Rep.': 'Dem. Rep. Congo', \n",
    "'Dominican Republic': 'Dominican Rep.', \n",
    "'Egypt Arab Rep.': 'Egypt', \n",
    "'Equatorial Guinea': 'Eq. Guinea', \n",
    "'Eswatini': 'eSwatini', \n",
    "'Gambia The': 'Gambia', \n",
    "'Iran Islamic Rep.': 'Iran', \n",
    "'Kyrgyz Republic': 'Kyrgyzstan', \n",
    "'Lao PDR': 'Laos', \n",
    "'Korea Dem. People\\'s Rep.': 'North Korea', \n",
    "'West Bank and Gaza': 'Palestine', \n",
    "'Russian Federation': 'Russia', \n",
    "'South Sudan': 'S. Sudan', \n",
    "'Slovak Republic': 'Slovakia', \n",
    "'Solomon Islands': 'Solomon Is.', \n",
    "'Korea Rep.': 'South Korea', \n",
    "'Syrian Arab Republic': 'Syria', \n",
    "'United States': 'United States of America', \n",
    "'Venezuela RB': 'Venezuela', \n",
    "'Yemen Rep.': 'Yemen'}\n",
    "\n",
    "co2['country_name'] = co2['country_name'].replace(c_rename)"
   ]
  },
  {
   "cell_type": "code",
   "execution_count": 53,
   "id": "e1343019",
   "metadata": {},
   "outputs": [
    {
     "data": {
      "text/html": [
       "<div>\n",
       "<style scoped>\n",
       "    .dataframe tbody tr th:only-of-type {\n",
       "        vertical-align: middle;\n",
       "    }\n",
       "\n",
       "    .dataframe tbody tr th {\n",
       "        vertical-align: top;\n",
       "    }\n",
       "\n",
       "    .dataframe thead th {\n",
       "        text-align: right;\n",
       "    }\n",
       "</style>\n",
       "<table border=\"1\" class=\"dataframe\">\n",
       "  <thead>\n",
       "    <tr style=\"text-align: right;\">\n",
       "      <th>year</th>\n",
       "      <th>country_name</th>\n",
       "      <th>1961</th>\n",
       "      <th>1962</th>\n",
       "      <th>1963</th>\n",
       "      <th>1964</th>\n",
       "      <th>1965</th>\n",
       "      <th>1966</th>\n",
       "      <th>1967</th>\n",
       "      <th>1968</th>\n",
       "      <th>1969</th>\n",
       "      <th>...</th>\n",
       "      <th>2010</th>\n",
       "      <th>2011</th>\n",
       "      <th>2012</th>\n",
       "      <th>2013</th>\n",
       "      <th>2014</th>\n",
       "      <th>2015</th>\n",
       "      <th>2016</th>\n",
       "      <th>2017</th>\n",
       "      <th>2018</th>\n",
       "      <th>2019</th>\n",
       "    </tr>\n",
       "  </thead>\n",
       "  <tbody>\n",
       "    <tr>\n",
       "      <th>0</th>\n",
       "      <td>Afghanistan</td>\n",
       "      <td>491.38</td>\n",
       "      <td>689.40</td>\n",
       "      <td>707.73</td>\n",
       "      <td>839.74</td>\n",
       "      <td>1008.42</td>\n",
       "      <td>1092.77</td>\n",
       "      <td>1283.45</td>\n",
       "      <td>1224.78</td>\n",
       "      <td>942.42</td>\n",
       "      <td>...</td>\n",
       "      <td>7110.00</td>\n",
       "      <td>8930.00</td>\n",
       "      <td>8080.00</td>\n",
       "      <td>5990.00</td>\n",
       "      <td>4880.00</td>\n",
       "      <td>5950.00</td>\n",
       "      <td>5300.00</td>\n",
       "      <td>4780.00</td>\n",
       "      <td>6070.00</td>\n",
       "      <td>6080.00</td>\n",
       "    </tr>\n",
       "  </tbody>\n",
       "</table>\n",
       "<p>1 rows × 60 columns</p>\n",
       "</div>"
      ],
      "text/plain": [
       "year country_name   1961   1962   1963   1964    1965    1966    1967    1968   \n",
       "0     Afghanistan 491.38 689.40 707.73 839.74 1008.42 1092.77 1283.45 1224.78  \\\n",
       "\n",
       "year   1969  ...    2010    2011    2012    2013    2014    2015    2016   \n",
       "0    942.42  ... 7110.00 8930.00 8080.00 5990.00 4880.00 5950.00 5300.00  \\\n",
       "\n",
       "year    2017    2018    2019  \n",
       "0    4780.00 6070.00 6080.00  \n",
       "\n",
       "[1 rows x 60 columns]"
      ]
     },
     "execution_count": 53,
     "metadata": {},
     "output_type": "execute_result"
    }
   ],
   "source": [
    "co2.head(1)"
   ]
  },
  {
   "attachments": {},
   "cell_type": "markdown",
   "id": "4ecf2642",
   "metadata": {},
   "source": [
    "====================================================================================="
   ]
  },
  {
   "cell_type": "code",
   "execution_count": 54,
   "id": "ec74db5b",
   "metadata": {},
   "outputs": [
    {
     "data": {
      "text/plain": [
       "Index(['country_code', 'country_name', 'year', 'value'], dtype='object')"
      ]
     },
     "execution_count": 54,
     "metadata": {},
     "output_type": "execute_result"
    }
   ],
   "source": [
    "# (1990 - 2020)\n",
    "forest0 = pd.read_csv(\"https://raw.githubusercontent.com/infoshareacademy/jdszr12-git_squad/main/py_projekt/forest.csv\", encoding=\"Windows-1250\")\n",
    "forest0.columns"
   ]
  },
  {
   "cell_type": "code",
   "execution_count": 55,
   "id": "a54883f7",
   "metadata": {},
   "outputs": [
    {
     "data": {
      "text/html": [
       "<div>\n",
       "<style scoped>\n",
       "    .dataframe tbody tr th:only-of-type {\n",
       "        vertical-align: middle;\n",
       "    }\n",
       "\n",
       "    .dataframe tbody tr th {\n",
       "        vertical-align: top;\n",
       "    }\n",
       "\n",
       "    .dataframe thead th {\n",
       "        text-align: right;\n",
       "    }\n",
       "</style>\n",
       "<table border=\"1\" class=\"dataframe\">\n",
       "  <thead>\n",
       "    <tr style=\"text-align: right;\">\n",
       "      <th></th>\n",
       "      <th>country_code</th>\n",
       "      <th>country_name</th>\n",
       "      <th>year</th>\n",
       "      <th>value</th>\n",
       "    </tr>\n",
       "  </thead>\n",
       "  <tbody>\n",
       "    <tr>\n",
       "      <th>62</th>\n",
       "      <td>AFG</td>\n",
       "      <td>Afghanistan</td>\n",
       "      <td>1990</td>\n",
       "      <td>1.85</td>\n",
       "    </tr>\n",
       "  </tbody>\n",
       "</table>\n",
       "</div>"
      ],
      "text/plain": [
       "   country_code country_name  year  value\n",
       "62          AFG  Afghanistan  1990   1.85"
      ]
     },
     "execution_count": 55,
     "metadata": {},
     "output_type": "execute_result"
    }
   ],
   "source": [
    "forest0['country_name'] = forest0['country_name'].str.replace(',','')\n",
    "forest0 = forest0.loc[(forest0['year'] <= 2019)]\n",
    "forest0 = forest0.sort_values(by=['country_name','year'])\n",
    "forest0.head(1)"
   ]
  },
  {
   "cell_type": "code",
   "execution_count": 56,
   "id": "8c88c818",
   "metadata": {},
   "outputs": [],
   "source": [
    "all_countries2 = forest0['country_name'].unique()\n",
    "\n",
    "for i in range(len(all_countries2)):\n",
    "    forest = forest0.pivot(index='country_name', columns='year', values='value')\n",
    "\n",
    "for i in range(forest.shape[0]):\n",
    "    forest.iloc[i,-59:] = forest.iloc[i,-59:].bfill(axis ='rows')\n",
    "    forest.iloc[i,-59:] = forest.iloc[i,-59:].ffill(axis ='rows')\n",
    "\n",
    "forest = forest.reset_index()\n",
    "\n",
    "#forest"
   ]
  },
  {
   "cell_type": "code",
   "execution_count": 57,
   "id": "f0cf1aff",
   "metadata": {},
   "outputs": [],
   "source": [
    "\n",
    "f_drop_rows = ['Bermuda', 'Kosovo','Sint Maarten (Dutch part)']\n",
    "# (MISS f_drop_rows: China Hong Kong SAR, Macao SAR China)\n",
    "# (rename inside forest: Czech Republic -> Czechia ->(zmiana nazwy 1992 i 1993)) -> zrobić by było wszędzie Czechia (geopandas) XOR Czech Republic (jeśli inne)\n",
    "forest['country_name'] = forest['country_name'].str.replace('Czech Republic','Czechia')\n",
    "\n",
    "for i in range(len(f_drop_rows)):\n",
    "    forest.drop(forest[forest['country_name'] == f_drop_rows[i]].index, inplace=True)"
   ]
  },
  {
   "cell_type": "code",
   "execution_count": 58,
   "id": "20174d47",
   "metadata": {},
   "outputs": [],
   "source": [
    "f_rename = {'Bahamas The': 'Bahamas', \n",
    "'Bosnia and Herzegovina': 'Bosnia and Herz.', \n",
    "'Brunei Darussalam': 'Brunei', \n",
    "'Central African Republic': 'Central African Rep.', \n",
    "'Congo Rep.': 'Congo', \n",
    "'Cote d\\'Ivoire': 'Côte d\\'Ivoire', \n",
    "'Congo Dem. Rep.': 'Dem. Rep. Congo', \n",
    "'Dominican Republic': 'Dominican Rep.', \n",
    "'Egypt Arab Rep.': 'Egypt', \n",
    "'Equatorial Guinea': 'Eq. Guinea', \n",
    "'Eswatini': 'eSwatini', \n",
    "'Gambia The': 'Gambia', \n",
    "'Iran Islamic Rep.': 'Iran', \n",
    "'Kyrgyz Republic': 'Kyrgyzstan', \n",
    "'Lao PDR': 'Laos', \n",
    "'Korea Dem. People\\'s Rep.': 'North Korea', \n",
    "'West Bank and Gaza': 'Palestine', \n",
    "'Russian Federation': 'Russia', \n",
    "'South Sudan': 'S. Sudan', \n",
    "'Slovak Republic': 'Slovakia', \n",
    "'Solomon Islands': 'Solomon Is.', \n",
    "'Korea Rep.': 'South Korea', \n",
    "'Syrian Arab Republic': 'Syria', \n",
    "'United States': 'United States of America', \n",
    "'Venezuela, RB': 'Venezuela', \n",
    "'Yemen, Rep.': 'Yemen'}\n",
    "\n",
    "forest['country_name'] = forest['country_name'].replace(f_rename)"
   ]
  },
  {
   "cell_type": "code",
   "execution_count": 59,
   "id": "2c361f84",
   "metadata": {},
   "outputs": [
    {
     "data": {
      "text/html": [
       "<div>\n",
       "<style scoped>\n",
       "    .dataframe tbody tr th:only-of-type {\n",
       "        vertical-align: middle;\n",
       "    }\n",
       "\n",
       "    .dataframe tbody tr th {\n",
       "        vertical-align: top;\n",
       "    }\n",
       "\n",
       "    .dataframe thead th {\n",
       "        text-align: right;\n",
       "    }\n",
       "</style>\n",
       "<table border=\"1\" class=\"dataframe\">\n",
       "  <thead>\n",
       "    <tr style=\"text-align: right;\">\n",
       "      <th>year</th>\n",
       "      <th>country_name</th>\n",
       "      <th>1990</th>\n",
       "      <th>1991</th>\n",
       "      <th>1992</th>\n",
       "      <th>1993</th>\n",
       "      <th>1994</th>\n",
       "      <th>1995</th>\n",
       "      <th>1996</th>\n",
       "      <th>1997</th>\n",
       "      <th>1998</th>\n",
       "      <th>...</th>\n",
       "      <th>2010</th>\n",
       "      <th>2011</th>\n",
       "      <th>2012</th>\n",
       "      <th>2013</th>\n",
       "      <th>2014</th>\n",
       "      <th>2015</th>\n",
       "      <th>2016</th>\n",
       "      <th>2017</th>\n",
       "      <th>2018</th>\n",
       "      <th>2019</th>\n",
       "    </tr>\n",
       "  </thead>\n",
       "  <tbody>\n",
       "    <tr>\n",
       "      <th>0</th>\n",
       "      <td>Afghanistan</td>\n",
       "      <td>1.85</td>\n",
       "      <td>1.85</td>\n",
       "      <td>1.85</td>\n",
       "      <td>1.85</td>\n",
       "      <td>1.85</td>\n",
       "      <td>1.85</td>\n",
       "      <td>1.85</td>\n",
       "      <td>1.85</td>\n",
       "      <td>1.85</td>\n",
       "      <td>...</td>\n",
       "      <td>1.85</td>\n",
       "      <td>1.85</td>\n",
       "      <td>1.85</td>\n",
       "      <td>1.85</td>\n",
       "      <td>1.85</td>\n",
       "      <td>1.85</td>\n",
       "      <td>1.85</td>\n",
       "      <td>1.85</td>\n",
       "      <td>1.85</td>\n",
       "      <td>1.85</td>\n",
       "    </tr>\n",
       "  </tbody>\n",
       "</table>\n",
       "<p>1 rows × 31 columns</p>\n",
       "</div>"
      ],
      "text/plain": [
       "year country_name  1990  1991  1992  1993  1994  1995  1996  1997  1998  ...   \n",
       "0     Afghanistan  1.85  1.85  1.85  1.85  1.85  1.85  1.85  1.85  1.85  ...  \\\n",
       "\n",
       "year  2010  2011  2012  2013  2014  2015  2016  2017  2018  2019  \n",
       "0     1.85  1.85  1.85  1.85  1.85  1.85  1.85  1.85  1.85  1.85  \n",
       "\n",
       "[1 rows x 31 columns]"
      ]
     },
     "execution_count": 59,
     "metadata": {},
     "output_type": "execute_result"
    }
   ],
   "source": [
    "forest.head(1)"
   ]
  },
  {
   "attachments": {},
   "cell_type": "markdown",
   "id": "c90bcd7b",
   "metadata": {},
   "source": [
    "====================================================================================="
   ]
  },
  {
   "cell_type": "code",
   "execution_count": 60,
   "id": "4c6f78aa",
   "metadata": {},
   "outputs": [
    {
     "data": {
      "text/plain": [
       "Index(['Country Name', 'Code', '1960', '1961', '1962', '1963', '1964', '1965',\n",
       "       '1966', '1967', '1968', '1969', '1970', '1971', '1972', '1973', '1974',\n",
       "       '1975', '1976', '1977', '1978', '1979', '1980', '1981', '1982', '1983',\n",
       "       '1984', '1985', '1986', '1987', '1988', '1989', '1990', '1991', '1992',\n",
       "       '1993', '1994', '1995', '1996', '1997', '1998', '1999', '2000', '2001',\n",
       "       '2002', '2003', '2004', '2005', '2006', '2007', '2008', '2009', '2010',\n",
       "       '2011', '2012', '2013', '2014', '2015', '2016', '2017', '2018', '2019',\n",
       "       '2020', 'Unnamed: 65'],\n",
       "      dtype='object')"
      ]
     },
     "execution_count": 60,
     "metadata": {},
     "output_type": "execute_result"
    }
   ],
   "source": [
    "# (1960 - 2020)\n",
    "pkb0 = pd.read_csv(\"https://raw.githubusercontent.com/infoshareacademy/jdszr12-git_squad/main/py_projekt/GDP_percapita.csv\", encoding=\"Windows-1250\")\n",
    "pkb0.columns"
   ]
  },
  {
   "cell_type": "code",
   "execution_count": 61,
   "id": "84c6222d",
   "metadata": {},
   "outputs": [],
   "source": [
    "pkb0.drop(['1960','2020','Unnamed: 65'], axis=1, inplace=True)\n",
    "pkb0['Country Name'] = pkb0['Country Name'].str.replace(',','')\n",
    "pkb0['Country Name'] = pkb0['Country Name'].str.replace('\\\"','')\n",
    "\n",
    "pkb = pkb0.sort_values(by=['Country Name'])"
   ]
  },
  {
   "cell_type": "code",
   "execution_count": 62,
   "id": "1b915ae7",
   "metadata": {},
   "outputs": [],
   "source": [
    "for i in range(pkb.shape[0]):\n",
    "    pkb.iloc[i,-59:] = pkb.iloc[i,-59:].bfill(axis ='rows')\n",
    "    pkb.iloc[i,-59:] = pkb.iloc[i,-59:].ffill(axis ='rows')\n",
    "\n",
    "pkb = pkb.reset_index()\n",
    "pkb.drop('index', axis=1, inplace=True)\n",
    "\n",
    "# pkb"
   ]
  },
  {
   "cell_type": "code",
   "execution_count": 63,
   "id": "fcaf92f6",
   "metadata": {},
   "outputs": [],
   "source": [
    "pkb_drop_rows = ['Sint Maarten (Dutch part)'] \n",
    "\n",
    "for i in range(len(pkb_drop_rows)):\n",
    "    pkb.drop(pkb[pkb['Country Name'] == pkb_drop_rows[i]].index, inplace=True)"
   ]
  },
  {
   "cell_type": "code",
   "execution_count": 64,
   "id": "2f54dc0d",
   "metadata": {},
   "outputs": [],
   "source": [
    "pkb_rename = {'Bahamas The': 'Bahamas', \n",
    "'Bosnia and Herzegovina': 'Bosnia and Herz.', \n",
    "'Brunei Darussalam': 'Brunei', \n",
    "'Central African Republic': 'Central African Rep.', \n",
    "'Congo Rep.': 'Congo', \n",
    "'Cote d\\'Ivoire': 'Côte d\\'Ivoire', \n",
    "'Czech Republic': 'Czechia', \n",
    "'Congo Dem. Rep.': 'Dem. Rep. Congo', \n",
    "'Dominican Republic': 'Dominican Rep.', \n",
    "'Egypt Arab Rep.': 'Egypt', \n",
    "'Equatorial Guinea': 'Eq. Guinea', \n",
    "'Eswatini': 'eSwatini', \n",
    "'Gambia The': 'Gambia', \n",
    "'Iran Islamic Rep.': 'Iran', \n",
    "'Kyrgyz Republic': 'Kyrgyzstan', \n",
    "'Lao PDR': 'Laos', \n",
    "'Korea Dem. People\\'s Rep.': 'North Korea', \n",
    "'West Bank and Gaza': 'Palestine', \n",
    "'Russian Federation': 'Russia', \n",
    "'South Sudan': 'S. Sudan', \n",
    "'Slovak Republic': 'Slovakia', \n",
    "'Solomon Islands': 'Solomon Is.', \n",
    "'Korea Rep.': 'South Korea', \n",
    "'Syrian Arab Republic': 'Syria', \n",
    "'United States': 'United States of America', \n",
    "'Venezuela RB': 'Venezuela', \n",
    "'Yemen Rep.': 'Yemen'}\n",
    "\n",
    "pkb['Country Name'] = pkb['Country Name'].replace(pkb_rename)"
   ]
  },
  {
   "cell_type": "code",
   "execution_count": 65,
   "id": "ea1a8288",
   "metadata": {},
   "outputs": [
    {
     "data": {
      "text/html": [
       "<div>\n",
       "<style scoped>\n",
       "    .dataframe tbody tr th:only-of-type {\n",
       "        vertical-align: middle;\n",
       "    }\n",
       "\n",
       "    .dataframe tbody tr th {\n",
       "        vertical-align: top;\n",
       "    }\n",
       "\n",
       "    .dataframe thead th {\n",
       "        text-align: right;\n",
       "    }\n",
       "</style>\n",
       "<table border=\"1\" class=\"dataframe\">\n",
       "  <thead>\n",
       "    <tr style=\"text-align: right;\">\n",
       "      <th></th>\n",
       "      <th>Country Name</th>\n",
       "      <th>Code</th>\n",
       "      <th>1961</th>\n",
       "      <th>1962</th>\n",
       "      <th>1963</th>\n",
       "      <th>1964</th>\n",
       "      <th>1965</th>\n",
       "      <th>1966</th>\n",
       "      <th>1967</th>\n",
       "      <th>1968</th>\n",
       "      <th>...</th>\n",
       "      <th>2010</th>\n",
       "      <th>2011</th>\n",
       "      <th>2012</th>\n",
       "      <th>2013</th>\n",
       "      <th>2014</th>\n",
       "      <th>2015</th>\n",
       "      <th>2016</th>\n",
       "      <th>2017</th>\n",
       "      <th>2018</th>\n",
       "      <th>2019</th>\n",
       "    </tr>\n",
       "  </thead>\n",
       "  <tbody>\n",
       "    <tr>\n",
       "      <th>0</th>\n",
       "      <td>Afghanistan</td>\n",
       "      <td>AFG</td>\n",
       "      <td>59.86</td>\n",
       "      <td>58.46</td>\n",
       "      <td>78.71</td>\n",
       "      <td>82.10</td>\n",
       "      <td>101.11</td>\n",
       "      <td>137.59</td>\n",
       "      <td>160.90</td>\n",
       "      <td>129.11</td>\n",
       "      <td>...</td>\n",
       "      <td>543.31</td>\n",
       "      <td>591.19</td>\n",
       "      <td>638.85</td>\n",
       "      <td>624.32</td>\n",
       "      <td>614.22</td>\n",
       "      <td>556.01</td>\n",
       "      <td>512.01</td>\n",
       "      <td>516.68</td>\n",
       "      <td>485.67</td>\n",
       "      <td>494.18</td>\n",
       "    </tr>\n",
       "  </tbody>\n",
       "</table>\n",
       "<p>1 rows × 61 columns</p>\n",
       "</div>"
      ],
      "text/plain": [
       "  Country Name Code  1961  1962  1963  1964   1965   1966   1967   1968  ...   \n",
       "0  Afghanistan  AFG 59.86 58.46 78.71 82.10 101.11 137.59 160.90 129.11  ...  \\\n",
       "\n",
       "    2010   2011   2012   2013   2014   2015   2016   2017   2018   2019  \n",
       "0 543.31 591.19 638.85 624.32 614.22 556.01 512.01 516.68 485.67 494.18  \n",
       "\n",
       "[1 rows x 61 columns]"
      ]
     },
     "execution_count": 65,
     "metadata": {},
     "output_type": "execute_result"
    }
   ],
   "source": [
    "pkb.head(1)"
   ]
  },
  {
   "attachments": {},
   "cell_type": "markdown",
   "id": "9de886f3",
   "metadata": {},
   "source": [
    "====================================================================================="
   ]
  },
  {
   "cell_type": "code",
   "execution_count": 66,
   "id": "d68d8c7f",
   "metadata": {},
   "outputs": [
    {
     "data": {
      "text/plain": [
       "Index(['Entity', 'Code', 'Year', 'Urban population (% of total population)'], dtype='object')"
      ]
     },
     "execution_count": 66,
     "metadata": {},
     "output_type": "execute_result"
    }
   ],
   "source": [
    "# (1960 - 2020)\n",
    "popul = pd.read_csv(\"https://raw.githubusercontent.com/infoshareacademy/jdszr12-git_squad/main/py_projekt/share-of-population-urban.csv\", encoding=\"Windows-1250\")\n",
    "popul.columns"
   ]
  },
  {
   "cell_type": "code",
   "execution_count": 67,
   "id": "7151c326",
   "metadata": {},
   "outputs": [
    {
     "data": {
      "text/html": [
       "<div>\n",
       "<style scoped>\n",
       "    .dataframe tbody tr th:only-of-type {\n",
       "        vertical-align: middle;\n",
       "    }\n",
       "\n",
       "    .dataframe tbody tr th {\n",
       "        vertical-align: top;\n",
       "    }\n",
       "\n",
       "    .dataframe thead th {\n",
       "        text-align: right;\n",
       "    }\n",
       "</style>\n",
       "<table border=\"1\" class=\"dataframe\">\n",
       "  <thead>\n",
       "    <tr style=\"text-align: right;\">\n",
       "      <th></th>\n",
       "      <th>area</th>\n",
       "      <th>year</th>\n",
       "      <th>urban_population_proc</th>\n",
       "    </tr>\n",
       "  </thead>\n",
       "  <tbody>\n",
       "    <tr>\n",
       "      <th>1</th>\n",
       "      <td>Afghanistan</td>\n",
       "      <td>1961</td>\n",
       "      <td>8.68</td>\n",
       "    </tr>\n",
       "  </tbody>\n",
       "</table>\n",
       "</div>"
      ],
      "text/plain": [
       "          area  year  urban_population_proc\n",
       "1  Afghanistan  1961                   8.68"
      ]
     },
     "execution_count": 67,
     "metadata": {},
     "output_type": "execute_result"
    }
   ],
   "source": [
    "popul = popul.rename(columns={\"Entity\": \"area\",\n",
    "                              \"Year\": \"year\",\n",
    "                              popul.columns[3]: \"urban_population_proc\"})\n",
    "popul.drop('Code', axis=1, inplace=True)\n",
    "popul['area'] = popul['area'].str.replace(',','')\n",
    "popul = popul.loc[(popul['year'] <= 2019) & (popul['year'] >= 1961)]\n",
    "popul = popul.sort_values(by=['area','year'])\n",
    "popul.head(1)"
   ]
  },
  {
   "cell_type": "code",
   "execution_count": 68,
   "id": "955447e3",
   "metadata": {},
   "outputs": [],
   "source": [
    "all_countries3 = popul['area'].unique()\n",
    "\n",
    "for i in range(len(all_countries3)):\n",
    "    u_population = popul.pivot(index='area', columns='year', values='urban_population_proc')\n",
    "\n",
    "for i in range(u_population.shape[0]):\n",
    "    u_population.iloc[i,-59:] = u_population.iloc[i,-59:].bfill(axis ='rows')\n",
    "    u_population.iloc[i,-59:] = u_population.iloc[i,-59:].ffill(axis ='rows')\n",
    "\n",
    "u_population = u_population.reset_index()\n",
    "\n",
    "# u_population"
   ]
  },
  {
   "cell_type": "code",
   "execution_count": 69,
   "id": "bd1ac441",
   "metadata": {},
   "outputs": [],
   "source": [
    "p_drop_rows = ['Sint Maarten (Dutch part)']\n",
    "# (MISS p_drop_rows: Caribbean)\n",
    "\n",
    "for i in range(len(p_drop_rows)):\n",
    "    u_population.drop(u_population[u_population['area'] == p_drop_rows[i]].index, inplace=True)"
   ]
  },
  {
   "cell_type": "code",
   "execution_count": 70,
   "id": "32a5d4a5",
   "metadata": {},
   "outputs": [],
   "source": [
    "p_rename = {'Bosnia and Herzegovina': 'Bosnia and Herz.', \n",
    "'Central African Republic': 'Central African Rep.', \n",
    "'Cote d\\'Ivoire': 'Côte d\\'Ivoire', \n",
    "'Democratic Republic of Congo': 'Dem. Rep. Congo', \n",
    "'Dominican Republic': 'Dominican Rep.', \n",
    "'Equatorial Guinea': 'Eq. Guinea', \n",
    "'Eswatini': 'eSwatini', \n",
    "'Hong Kong': 'Hong Kong SAR China', \n",
    "'Macao': 'Macao SAR China', \n",
    "'South Sudan': 'S. Sudan', \n",
    "'Solomon Islands': 'Solomon Is.', \n",
    "'Saint Kitts and Nevis': 'St. Kitts and Nevis', \n",
    "'Saint Lucia': 'St. Lucia', \n",
    "'Saint Vincent and the Grenadines': 'St. Vincent and the Grenadines', \n",
    "'Timor': 'Timor-Leste', \n",
    "'United States': 'United States of America', \n",
    "'United States Virgin Islands': 'Virgin Islands (U.S.)'}\n",
    "\n",
    "u_population['area'] = u_population['area'].replace(p_rename)"
   ]
  },
  {
   "cell_type": "code",
   "execution_count": 71,
   "id": "a8118883",
   "metadata": {},
   "outputs": [
    {
     "data": {
      "text/html": [
       "<div>\n",
       "<style scoped>\n",
       "    .dataframe tbody tr th:only-of-type {\n",
       "        vertical-align: middle;\n",
       "    }\n",
       "\n",
       "    .dataframe tbody tr th {\n",
       "        vertical-align: top;\n",
       "    }\n",
       "\n",
       "    .dataframe thead th {\n",
       "        text-align: right;\n",
       "    }\n",
       "</style>\n",
       "<table border=\"1\" class=\"dataframe\">\n",
       "  <thead>\n",
       "    <tr style=\"text-align: right;\">\n",
       "      <th>year</th>\n",
       "      <th>area</th>\n",
       "      <th>1961</th>\n",
       "      <th>1962</th>\n",
       "      <th>1963</th>\n",
       "      <th>1964</th>\n",
       "      <th>1965</th>\n",
       "      <th>1966</th>\n",
       "      <th>1967</th>\n",
       "      <th>1968</th>\n",
       "      <th>1969</th>\n",
       "      <th>...</th>\n",
       "      <th>2010</th>\n",
       "      <th>2011</th>\n",
       "      <th>2012</th>\n",
       "      <th>2013</th>\n",
       "      <th>2014</th>\n",
       "      <th>2015</th>\n",
       "      <th>2016</th>\n",
       "      <th>2017</th>\n",
       "      <th>2018</th>\n",
       "      <th>2019</th>\n",
       "    </tr>\n",
       "  </thead>\n",
       "  <tbody>\n",
       "    <tr>\n",
       "      <th>0</th>\n",
       "      <td>Afghanistan</td>\n",
       "      <td>8.68</td>\n",
       "      <td>8.98</td>\n",
       "      <td>9.28</td>\n",
       "      <td>9.59</td>\n",
       "      <td>9.90</td>\n",
       "      <td>10.23</td>\n",
       "      <td>10.57</td>\n",
       "      <td>10.92</td>\n",
       "      <td>11.27</td>\n",
       "      <td>...</td>\n",
       "      <td>23.74</td>\n",
       "      <td>23.95</td>\n",
       "      <td>24.16</td>\n",
       "      <td>24.37</td>\n",
       "      <td>24.59</td>\n",
       "      <td>24.80</td>\n",
       "      <td>25.02</td>\n",
       "      <td>25.25</td>\n",
       "      <td>25.50</td>\n",
       "      <td>25.75</td>\n",
       "    </tr>\n",
       "  </tbody>\n",
       "</table>\n",
       "<p>1 rows × 60 columns</p>\n",
       "</div>"
      ],
      "text/plain": [
       "year         area  1961  1962  1963  1964  1965  1966  1967  1968  1969  ...   \n",
       "0     Afghanistan  8.68  8.98  9.28  9.59  9.90 10.23 10.57 10.92 11.27  ...  \\\n",
       "\n",
       "year  2010  2011  2012  2013  2014  2015  2016  2017  2018  2019  \n",
       "0    23.74 23.95 24.16 24.37 24.59 24.80 25.02 25.25 25.50 25.75  \n",
       "\n",
       "[1 rows x 60 columns]"
      ]
     },
     "execution_count": 71,
     "metadata": {},
     "output_type": "execute_result"
    }
   ],
   "source": [
    "u_population.head(1)"
   ]
  },
  {
   "attachments": {},
   "cell_type": "markdown",
   "id": "a778e20a",
   "metadata": {},
   "source": [
    "====================================================================================="
   ]
  },
  {
   "cell_type": "code",
   "execution_count": 72,
   "id": "7df20b82",
   "metadata": {},
   "outputs": [],
   "source": [
    "# El Nino / La Nina (1961-2019)\n",
    "el_la_plot = el_la_p.iloc[:,-59:]\n",
    "# =====================================================================================================\n",
    "# Whole World temperatures (1961-2019)\n",
    "world_t = temp.loc[(temp['area_code'] == 5000) & (temp['element_code'] == 7271) & (temp['months_code'] == 7020)]\n",
    "# world_t.iloc[:,-59:].isna().sum()\n",
    "world_t_ok = world_t.iloc[:,-59:]\n",
    "# Whole World CO2 (1961-2019)\n",
    "world_co2 = co2.loc[(co2['country_name'] == 'World')]\n",
    "world_co2_ok = world_co2.iloc[:,-59:]\n",
    "# Whole World Forest (1961-2019)\n",
    "world_forest = forest.loc[(forest['country_name'] == 'World')]\n",
    "world_forest_ok = world_forest.iloc[:,-59:]\n",
    "# Whole World GDP (1961-2019)\n",
    "world_pkb = pkb.loc[(pkb['Country Name'] == 'World')]\n",
    "world_pkb_ok = world_pkb.iloc[:,-59:]\n",
    "# Whole World Urban Population (1961-2019)\n",
    "world_popul = u_population.loc[(u_population['area'] == 'World')]\n",
    "world_popul_ok = world_popul.iloc[:,-59:]\n",
    "# =====================================================================================================\n",
    "# Africa temperatures (1961-2019)\n",
    "africa_t = temp.loc[(temp['area_code'] == 5100) & (temp['element_code'] == 7271) & (temp['months_code'] == 7020)]\n",
    "# africa_t.iloc[:,-59:].isna().sum()\n",
    "africa_t_ok = africa_t.iloc[:,-59:]\n",
    "# Africa CO2 (1961-2019)\n",
    "africa_co2 = co2.loc[(co2['country_name'] == 'Africa Eastern and Southern') | (co2['country_name'] == 'Africa Western and Central') | (co2['country_name'] == 'Middle East & North Africa')]\n",
    "africa_co2_ok = africa_co2.iloc[:,-59:].mean()\n",
    "# Africa GDP (1961-2019)\n",
    "africa_pkb = pkb.loc[(pkb['Country Name'] == 'Africa Eastern and Southern') | (pkb['Country Name'] == 'Africa Western and Central') | (pkb['Country Name'] == 'Middle East & North Africa')]\n",
    "africa_pkb_ok = africa_pkb.iloc[:,-59:].mean()\n",
    "# Africa Urban Population (1961-2019)\n",
    "africa_popul = u_population.loc[(u_population['area'] == 'Middle East and North Africa') | (u_population['area'] == 'Sub-Saharan Africa')]\n",
    "africa_popul_ok = africa_popul.iloc[:,-59:].mean()\n",
    "# =====================================================================================================\n",
    "# Caribbean, Northern & Central Americas temperatures (1961-2019)\n",
    "north_america_t = temp.loc[((temp['area_code'] == 5203) | (temp['area_code'] == 5204) | (temp['area_code'] == 5206))\n",
    "                            & (temp['element_code'] == 7271) & (temp['months_code'] == 7020)]\n",
    "# north_america_t.iloc[:,-59:].isna().sum()\n",
    "north_america_t_ok = north_america_t.iloc[:,-59:].mean()\n",
    "# Northern & Central Americas CO2 (1961-2019)\n",
    "north_america_co2 = co2.loc[(co2['country_name'] == 'North America')]\n",
    "north_america_co2_ok = north_america_co2.iloc[:,-59:]\n",
    "# Northern & Central Americas Forest (1961-2019)\n",
    "north_america_forest = forest.loc[(forest['country_name'] == 'North America')]\n",
    "north_america_forest_ok = north_america_forest.iloc[:,-59:]\n",
    "# Northern & Central Americas GDP (1961-2019)\n",
    "north_america_pkb = pkb.loc[(pkb['Country Name'] == 'North America')]\n",
    "north_america_pkb_ok = north_america_pkb.iloc[:,-59:]\n",
    "# Northern & Central Americas Urban Population (1961-2019)\n",
    "north_america_popul = u_population.loc[(u_population['area'] == 'North America')]\n",
    "north_america_popul_ok = north_america_popul.iloc[:,-59:]\n",
    "# =====================================================================================================\n",
    "# South America temperatures (1961-2019)\n",
    "south_america_t = temp.loc[(temp['area_code'] == 5207) & (temp['element_code'] == 7271) & (temp['months_code'] == 7020)]\n",
    "#south_america_t.iloc[:,-59:].isna().sum()\n",
    "south_america_t_ok = south_america_t.iloc[:,-59:]\n",
    "# Caribbean & South America CO2 (1961-2019)\n",
    "south_america_co2 = co2.loc[(co2['country_name'] == 'Latin America & Caribbean')]\n",
    "south_america_co2_ok = south_america_co2.iloc[:,-59:]\n",
    "# Caribbean & South America Forest (1961-2019)\n",
    "south_america_forest = forest.loc[(forest['country_name'] == 'Latin America & Caribbean')]\n",
    "south_america_forest_ok = south_america_forest.iloc[:,-59:]\n",
    "# Caribbean & South America GDP (1961-2019)\n",
    "south_america_pkb = pkb.loc[(pkb['Country Name'] == 'Latin America & Caribbean')]\n",
    "south_america_pkb_ok = south_america_pkb.iloc[:,-59:]\n",
    "# Caribbean & South America Urban Population (1961-2019)\n",
    "south_america_popul = u_population.loc[(u_population['area'] == 'Latin America and Caribbean')]\n",
    "south_america_popul_ok = south_america_popul.iloc[:,-59:]\n",
    "# =====================================================================================================\n",
    "# Asia temperatures (1961-2019)\n",
    "asia_t = temp.loc[(temp['area_code'] == 5300) & (temp['element_code'] == 7271) & (temp['months_code'] == 7020)]\n",
    "#asia_t.iloc[:,-59:].isna().sum()\n",
    "asia_t_ok = asia_t.iloc[:,-59:]\n",
    "# Asia CO2 (1961-2019)\n",
    "asia_co2 = co2.loc[(co2['country_name'] == 'East Asia & Pacific') | (co2['country_name'] == 'Europe & Central Asia') | (co2['country_name'] == 'South Asia')]\n",
    "asia_co2_ok = asia_co2.iloc[:,-59:].mean()\n",
    "# Asia GDP (1961-2019)\n",
    "asia_pkb = pkb.loc[(pkb['Country Name'] == 'East Asia & Pacific') | (pkb['Country Name'] == 'Europe & Central Asia') | (pkb['Country Name'] == 'South Asia')]\n",
    "asia_pkb_ok = asia_pkb.iloc[:,-59:].mean()\n",
    "# Asia Urban Population (1961-2019)\n",
    "asia_popul = u_population.loc[(u_population['area'] == 'East Asia & Pacific') | (u_population['area'] == 'Europe & Central Asia') | (u_population['area'] == 'South Asia')]\n",
    "asia_popul_ok = asia_popul.iloc[:,-59:].mean()\n",
    "# =====================================================================================================\n",
    "# Europe temperatures (1961-2019)\n",
    "europe_t = temp.loc[(temp['area_code'] == 5400) & (temp['element_code'] == 7271) & (temp['months_code'] == 7020)]\n",
    "#europe_t.iloc[:,-59:].isna().sum()\n",
    "europe_t_ok = europe_t.iloc[:,-59:]\n",
    "# Europe CO2 (1961-2019)\n",
    "europe_co2 = co2.loc[(co2['country_name'] == 'Central Europe and the Baltics') | (co2['country_name'] == 'Euro area') | (co2['country_name'] == 'European Union')]\n",
    "europe_co2_ok = europe_co2.iloc[:,-59:].mean()\n",
    "# Europe GDP (1961-2019)\n",
    "europe_pkb = pkb.loc[(pkb['Country Name'] == 'Central Europe and the Baltics') | (pkb['Country Name'] == 'Euro area') | (pkb['Country Name'] == 'European Union')]\n",
    "europe_pkb_ok = europe_pkb.iloc[:,-59:].mean()\n",
    "# Europe Urban Population (1961-2019)\n",
    "europe_popul = u_population.loc[(u_population['area'] == 'European Union')]\n",
    "europe_popul_ok = europe_popul.iloc[:,-59:]\n",
    "# =====================================================================================================\n",
    "# Oceania temperatures (1961-2019)\n",
    "oceania_t = temp.loc[(temp['area_code'] == 5500) & (temp['element_code'] == 7271) & (temp['months_code'] == 7020)]\n",
    "#oceania_t.iloc[:,-59:].isna().sum()\n",
    "oceania_t_ok = oceania_t.iloc[:,-59:]\n",
    "# Oceania CO2 (1961-2019)\n",
    "oceania_co2 = co2.loc[(co2['country_name'] == 'East Asia & Pacific')]\n",
    "oceania_co2_ok = oceania_co2.iloc[:,-59:]\n",
    "# Oceania Forest (1961-2019)\n",
    "oceania_forest = forest.loc[(forest['country_name'] == 'East Asia & Pacific')]\n",
    "oceania_forest_ok = oceania_forest.iloc[:,-59:]\n",
    "# Oceania GDP (1961-2019)\n",
    "oceania_pkb = pkb.loc[(pkb['Country Name'] == 'East Asia & Pacific')]\n",
    "oceania_pkb_ok = oceania_pkb.iloc[:,-59:]\n",
    "# Oceania Urban Population (1961-2019)\n",
    "oceania_popul = u_population.loc[(u_population['area'] == 'East Asia & Pacific')]\n",
    "oceania_popul_ok = oceania_popul.iloc[:,-59:]\n",
    "# =====================================================================================================\n",
    "# Antarctica temperatures (1961-2019)\n",
    "antarctica_t = temp.loc[(temp['area_code'] == 30) & (temp['element_code'] == 7271) & (temp['months_code'] == 7020)]\n",
    "#oceania_t.iloc[:,-59:].isna().sum()\n",
    "antarctica_t_ok = antarctica_t.iloc[:,-59:]\n",
    "# Antarctica Urban Population (1961-2019)\n",
    "antarctica_popul = u_population.loc[(u_population['area'] == 'Antarctica')]\n",
    "antarctica_popul_ok = antarctica_popul.iloc[:,-59:]"
   ]
  },
  {
   "cell_type": "code",
   "execution_count": 73,
   "id": "6d367df4",
   "metadata": {},
   "outputs": [],
   "source": [
    "temp_diff = temp.copy()\n",
    "continent = pd.read_csv(\"https://raw.githubusercontent.com/infoshareacademy/jdszr12-git_squad/main/py_projekt/_Countries_Continents.csv\", names=['area', 'continent', 'continent_code'], encoding=\"UTF-8\")\n",
    "temp_diff = pd.merge(left=continent, right=temp, on='area', how='inner')"
   ]
  },
  {
   "cell_type": "code",
   "execution_count": 74,
   "id": "5a0ad84e",
   "metadata": {},
   "outputs": [
    {
     "data": {
      "text/plain": [
       "Index(['area', 'continent', 'continent_code', 'area_code', 'months_code',\n",
       "       'months', 'element_code', 'element', '1961', '1962', '1963', '1964',\n",
       "       '1965', '1966', '1967', '1968', '1969', '1970', '1971', '1972', '1973',\n",
       "       '1974', '1975', '1976', '1977', '1978', '1979', '1980', '1981', '1982',\n",
       "       '1983', '1984', '1985', '1986', '1987', '1988', '1989', '1990', '1991',\n",
       "       '1992', '1993', '1994', '1995', '1996', '1997', '1998', '1999', '2000',\n",
       "       '2001', '2002', '2003', '2004', '2005', '2006', '2007', '2008', '2009',\n",
       "       '2010', '2011', '2012', '2013', '2014', '2015', '2016', '2017', '2018',\n",
       "       '2019'],\n",
       "      dtype='object')"
      ]
     },
     "execution_count": 74,
     "metadata": {},
     "output_type": "execute_result"
    }
   ],
   "source": [
    "temp_diff.columns"
   ]
  },
  {
   "cell_type": "code",
   "execution_count": 75,
   "id": "b65fde79",
   "metadata": {},
   "outputs": [
    {
     "name": "stderr",
     "output_type": "stream",
     "text": [
      "C:\\Users\\jaros\\AppData\\Local\\Temp\\ipykernel_17744\\3905036694.py:3: SettingWithCopyWarning: \n",
      "A value is trying to be set on a copy of a slice from a DataFrame\n",
      "\n",
      "See the caveats in the documentation: https://pandas.pydata.org/pandas-docs/stable/user_guide/indexing.html#returning-a-view-versus-a-copy\n",
      "  temp_diff_europe.drop(['continent', 'continent_code', 'area_code', 'months_code', 'months', 'element_code', 'element'], axis=1, inplace=True)\n"
     ]
    },
    {
     "data": {
      "text/html": [
       "<div>\n",
       "<style scoped>\n",
       "    .dataframe tbody tr th:only-of-type {\n",
       "        vertical-align: middle;\n",
       "    }\n",
       "\n",
       "    .dataframe tbody tr th {\n",
       "        vertical-align: top;\n",
       "    }\n",
       "\n",
       "    .dataframe thead th {\n",
       "        text-align: right;\n",
       "    }\n",
       "</style>\n",
       "<table border=\"1\" class=\"dataframe\">\n",
       "  <thead>\n",
       "    <tr style=\"text-align: right;\">\n",
       "      <th></th>\n",
       "      <th>area</th>\n",
       "      <th>1961</th>\n",
       "      <th>1962</th>\n",
       "      <th>1963</th>\n",
       "      <th>1964</th>\n",
       "      <th>1965</th>\n",
       "      <th>1966</th>\n",
       "      <th>1967</th>\n",
       "      <th>1968</th>\n",
       "      <th>1969</th>\n",
       "      <th>...</th>\n",
       "      <th>2010</th>\n",
       "      <th>2011</th>\n",
       "      <th>2012</th>\n",
       "      <th>2013</th>\n",
       "      <th>2014</th>\n",
       "      <th>2015</th>\n",
       "      <th>2016</th>\n",
       "      <th>2017</th>\n",
       "      <th>2018</th>\n",
       "      <th>2019</th>\n",
       "    </tr>\n",
       "  </thead>\n",
       "  <tbody>\n",
       "    <tr>\n",
       "      <th>66</th>\n",
       "      <td>Albania</td>\n",
       "      <td>0.63</td>\n",
       "      <td>0.34</td>\n",
       "      <td>0.08</td>\n",
       "      <td>-0.17</td>\n",
       "      <td>-0.39</td>\n",
       "      <td>0.55</td>\n",
       "      <td>-0.08</td>\n",
       "      <td>0.07</td>\n",
       "      <td>-0.02</td>\n",
       "      <td>...</td>\n",
       "      <td>1.29</td>\n",
       "      <td>1.12</td>\n",
       "      <td>1.60</td>\n",
       "      <td>1.50</td>\n",
       "      <td>1.40</td>\n",
       "      <td>1.73</td>\n",
       "      <td>1.70</td>\n",
       "      <td>1.34</td>\n",
       "      <td>2.23</td>\n",
       "      <td>1.91</td>\n",
       "    </tr>\n",
       "  </tbody>\n",
       "</table>\n",
       "<p>1 rows × 60 columns</p>\n",
       "</div>"
      ],
      "text/plain": [
       "       area  1961  1962  1963  1964  1965  1966  1967  1968  1969  ...  2010   \n",
       "66  Albania  0.63  0.34  0.08 -0.17 -0.39  0.55 -0.08  0.07 -0.02  ...  1.29  \\\n",
       "\n",
       "    2011  2012  2013  2014  2015  2016  2017  2018  2019  \n",
       "66  1.12  1.60  1.50  1.40  1.73  1.70  1.34  2.23  1.91  \n",
       "\n",
       "[1 rows x 60 columns]"
      ]
     },
     "execution_count": 75,
     "metadata": {},
     "output_type": "execute_result"
    }
   ],
   "source": [
    "temp_diff_europe = temp_diff.loc[(temp_diff['continent_code'] == 3) & (temp_diff['element_code'] == 7271) & (temp_diff['months_code'] == 7020)]\n",
    "#temp_diff_europe.groupby('area').mean(temp_diff_europe.iloc[:,-59:])\n",
    "temp_diff_europe.drop(['continent', 'continent_code', 'area_code', 'months_code', 'months', 'element_code', 'element'], axis=1, inplace=True)\n",
    "temp_diff_europe.head(1)\n",
    "#north_america_t_ok = north_america_t.iloc[:,-59:].mean()"
   ]
  },
  {
   "cell_type": "code",
   "execution_count": 76,
   "id": "17eae425",
   "metadata": {},
   "outputs": [
    {
     "name": "stderr",
     "output_type": "stream",
     "text": [
      "C:\\Users\\jaros\\AppData\\Local\\Temp\\ipykernel_17744\\2726185098.py:2: SettingWithCopyWarning: \n",
      "A value is trying to be set on a copy of a slice from a DataFrame.\n",
      "Try using .loc[row_indexer,col_indexer] = value instead\n",
      "\n",
      "See the caveats in the documentation: https://pandas.pydata.org/pandas-docs/stable/user_guide/indexing.html#returning-a-view-versus-a-copy\n",
      "  temp_diff_europe['Temperature difference'] = temp_diff_europe.apply(lambda x: x.max() - x.min(), axis=1)\n"
     ]
    }
   ],
   "source": [
    "temp_diff_europe.set_index('area', inplace=True)\n",
    "temp_diff_europe['Temperature difference'] = temp_diff_europe.apply(lambda x: x.max() - x.min(), axis=1)"
   ]
  },
  {
   "cell_type": "code",
   "execution_count": 77,
   "id": "08e8e923",
   "metadata": {},
   "outputs": [
    {
     "name": "stderr",
     "output_type": "stream",
     "text": [
      "C:\\Users\\jaros\\AppData\\Local\\Temp\\ipykernel_17744\\1932329383.py:1: SettingWithCopyWarning: \n",
      "A value is trying to be set on a copy of a slice from a DataFrame\n",
      "\n",
      "See the caveats in the documentation: https://pandas.pydata.org/pandas-docs/stable/user_guide/indexing.html#returning-a-view-versus-a-copy\n",
      "  temp_diff_europe.sort_values(by='Temperature difference', ascending=False, inplace=True)\n"
     ]
    },
    {
     "data": {
      "image/png": "[encoded data removed]",
      "text/plain": [
       "<Figure size 640x480 with 1 Axes>"
      ]
     },
     "metadata": {},
     "output_type": "display_data"
    }
   ],
   "source": [
    "temp_diff_europe.sort_values(by='Temperature difference', ascending=False, inplace=True)\n",
    "temp_diff_europe.head(10).plot(kind='bar', y='Temperature difference')\n",
    "plt.show()"
   ]
  },
  {
   "cell_type": "code",
   "execution_count": 78,
   "id": "5e224126",
   "metadata": {},
   "outputs": [
    {
     "data": {
      "image/png": "[encoded data removed]",
      "text/plain": [
       "<Figure size 640x480 with 1 Axes>"
      ]
     },
     "metadata": {},
     "output_type": "display_data"
    }
   ],
   "source": [
    "x = world_t_ok.columns\n",
    "y1 = world_t_ok.values.T\n",
    "\n",
    "el_la_row = el_la_plot.iloc[0] # get first row\n",
    "el_la_array = el_la_row.to_numpy() # convert row to numpy array\n",
    "y2 = el_la_array.T\n",
    "\n",
    "plt.plot(x, y1, label='World')\n",
    "\n",
    "plt.plot(x, y2, label='El Nino / La Nina')\n",
    "plt.axhline(y=0.0, color='r', linestyle='-')\n",
    "\n",
    "ymax = np.max(y2)\n",
    "ymin = np.min(y2)\n",
    "\n",
    "for i in range(len(y2)):\n",
    "    if y2[i] == ymax:\n",
    "        plt.axvspan(x[i], x[i+1], alpha=0.2, color='red')\n",
    "    elif y2[i] == ymin:\n",
    "        plt.axvspan(x[i], x[i+1], alpha=0.2, color='blue')\n",
    "\n",
    "# plt.fill_between(x, y2, where=(y2 > 0.0), interpolate=True, color='red', alpha=0.2)\n",
    "# plt.fill_between(x, y2, where=(y2 < 0.0), interpolate=True, color='blue', alpha=0.2)\n",
    "\n",
    "plt.xticks(rotation=90)\n",
    "plt.subplots_adjust(left=-0.5)\n",
    "plt.xlabel('year')\n",
    "plt.ylabel('temp \\u2103')\n",
    "plt.title('Temperatures (1961-2019)')\n",
    "plt.legend()\n",
    "plt.show();"
   ]
  },
  {
   "cell_type": "code",
   "execution_count": null,
   "id": "82febb11",
   "metadata": {},
   "outputs": [],
   "source": []
  },
  {
   "cell_type": "code",
   "execution_count": null,
   "id": "3a55ce04",
   "metadata": {},
   "outputs": [],
   "source": []
  },
  {
   "cell_type": "code",
   "execution_count": null,
   "id": "176f3f86",
   "metadata": {},
   "outputs": [],
   "source": []
  },
  {
   "attachments": {},
   "cell_type": "markdown",
   "id": "601412e5",
   "metadata": {},
   "source": [
    "====================================================================================="
   ]
  },
  {
   "cell_type": "code",
   "execution_count": null,
   "id": "ec62b27e",
   "metadata": {},
   "outputs": [],
   "source": []
  },
  {
   "attachments": {},
   "cell_type": "markdown",
   "id": "02f4214c",
   "metadata": {},
   "source": [
    "===================================="
   ]
  },
  {
   "attachments": {},
   "cell_type": "markdown",
   "id": "e3acd142",
   "metadata": {},
   "source": [
    "===================================="
   ]
  },
  {
   "attachments": {},
   "cell_type": "markdown",
   "id": "299db68e",
   "metadata": {},
   "source": [
    "===================================="
   ]
  },
  {
   "cell_type": "code",
   "execution_count": null,
   "id": "b452d371",
   "metadata": {},
   "outputs": [],
   "source": []
  }
 ],
 "metadata": {
  "kernelspec": {
   "display_name": "Python 3 (ipykernel)",
   "language": "python",
   "name": "python3"
  },
  "language_info": {
   "codemirror_mode": {
    "name": "ipython",
    "version": 3
   },
   "file_extension": ".py",
   "mimetype": "text/x-python",
   "name": "python",
   "nbconvert_exporter": "python",
   "pygments_lexer": "ipython3",
   "version": "3.9.13"
  }
 },
 "nbformat": 4,
 "nbformat_minor": 5
}
